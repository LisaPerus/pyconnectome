{
  "nbformat_minor": 0, 
  "nbformat": 4, 
  "cells": [
    {
      "execution_count": null, 
      "cell_type": "code", 
      "source": [
        "%matplotlib inline"
      ], 
      "outputs": [], 
      "metadata": {
        "collapsed": false
      }
    }, 
    {
      "source": [
        "\nPyconnectome Ants Template\n==========================\n\nExample automatically generated from package script.\n\n"
      ], 
      "cell_type": "markdown", 
      "metadata": {}
    }, 
    {
      "execution_count": null, 
      "cell_type": "code", 
      "source": [
        "# System import\nimport os\nimport argparse\nimport json\nfrom pprint import pprint\nfrom datetime import datetime\nimport textwrap\nfrom argparse import RawTextHelpFormatter\n\n# Bredala module\ntry:\n    import bredala\n    bredala.USE_PROFILER = False\n    #bredala.register(\"pyconnectome.tractography.filtering\",\n    #                 names=[\"life\"])\nexcept:\n    pass\n\n# Package import\nfrom pyconnectome import __version__ as version\n\n\n# Parameters to keep trace\n__hopla__ = [\"runtime\", \"inputs\", \"outputs\"]\n\n\nDOC = \"\"\"\nMultimodal template creation with ANTS\n--------------------------------------\n\nCommand example on the SENIOR data:\n\npython $HOME/git/pyconnectome/pyconnectome/scripts/pyconnectome_ants_template \\\n    -b /usr/lib/ants \\\n    -o /neurospin/nsap/processed/longitudinal_atlas/data/template \\\n    -i /neurospin/nsap/processed/longitudinal_atlas/data/template_15.txt \\\n    -w 1 1 \\\n    -D 3 \\\n    -G 0.2 \\\n    -J 47 \\\n    -v 2\n\npython $HOME/git/pyconnectome/pyconnectome/scripts/pyconnectome_ants_template \\\n    -b /usr/lib/ants \\\n    -o /neurospin/nsap/processed/longitudinal_atlas/data/template \\\n    -i /neurospin/nsap/processed/longitudinal_atlas/data/template_5.txt \\\n    -w 1 \\\n    -D 3 \\\n    -G 0.2 \\\n    -J 47 \\\n    -v 2\n\"\"\"\n\n\ndef is_file(filepath):\n    \"\"\" Check file's existence - argparse 'type' argument.\n    \"\"\"\n    if not os.path.isfile(filepath):\n        raise argparse.ArgumentError(\"File does not exist: %s\" % filepath)\n    return filepath\n\ndef is_directory(dirarg):\n    \"\"\" Type for argparse - checks that directory exists.\n    \"\"\"\n    if not os.path.isdir(dirarg):\n        raise argparse.ArgumentError(\n            \"The directory '{0}' does not exist!\".format(dirarg))\n    return dirarg\n\n\ndef get_cmd_line_args():\n    \"\"\"\n    Create a command line argument parser and return a dict mapping\n    <argument name> -> <argument value>.\n    \"\"\"\n    parser = argparse.ArgumentParser(\n        prog=\"python pyconnectome_ants_template\",\n        description=textwrap.dedent(DOC),\n        formatter_class=RawTextHelpFormatter)\n\n    # Required arguments\n    required = parser.add_argument_group(\"required arguments\")\n    required.add_argument(\n        \"-o\", \"--outdir\",\n        type=is_directory, required=True, metavar=\"<path>\",\n        help=\"Directory where to output.\")\n    required.add_argument(\n        \"-b\", \"--binaries\",\n        type=is_directory, required=True, metavar=\"<path>\",\n        help=\"Path to the ANTS binaries.\")\n    required.add_argument(\n        \"-i\", \"--images\",\n        type=is_file, required=True, metavar=\"<path>\",\n        help=\"Path to a '.txt' file where each line is the location of \"\n             \"the input image.  One can also specify more than one file for \"\n             \"each image for multi-modal template construction (e.g. t1 and \"\n             \"t2)..\")\n    required.add_argument(\n        \"-w\", \"--weights\",\n        type=str, required=True, nargs=\"+\",\n        help=\"Modality weights used in the similarity metric.\")\n\n    # Optional arguments\n    parser.add_argument(\n        \"-B\", \"--nobfc\",\n        action=\"store_true\", default=False,\n        help=\"If set no bias field correction is performed.\")\n    parser.add_argument(\n        \"-D\", \"--dimensions\",\n        type=int, choices=[2, 3, 4], default=3,\n        help=\"The images dimensions.\")\n    parser.add_argument(\n        \"-G\", \"--gradient-step\",\n        type=float, default=0.25,\n        help=\"Smaller in magnitude results in more cautious steps. Use \"\n             \"smaller steps to refine template details. 0.25 is an upper \"\n             \"(aggressive) limit for this parameter.\")\n    parser.add_argument(\n        \"-J\", \"--nbthread\",\n        type=int, default=2,\n        help=\"Number of cpu cores to use locally.\")\n    parser.add_argument(\n        \"-v\", \"--verbose\",\n        type=int, choices=[0, 1, 2], default=2,\n        help=\"Increase the verbosity level: 0 silent, [1, 2] verbose.\")\n\n    # Create a dict of arguments to pass to the 'main' function\n    args = parser.parse_args()\n    kwargs = vars(args)\n    verbose = kwargs.pop(\"verbose\")\n\n    return kwargs, verbose"
      ], 
      "outputs": [], 
      "metadata": {
        "collapsed": false
      }
    }, 
    {
      "source": [
        "Parse the command line.\n\n"
      ], 
      "cell_type": "markdown", 
      "metadata": {}
    }, 
    {
      "execution_count": null, 
      "cell_type": "code", 
      "source": [
        "inputs, verbose = get_cmd_line_args()\ntool = \"pyconnectome_ants_template\"\ntimestamp = datetime.now().isoformat()\ntool_version = version\nparams = locals()\nruntime = dict([(name, params[name])\n               for name in (\"tool\", \"tool_version\", \"timestamp\")])\noutputs = None\nif verbose > 0:\n    pprint(\"[info] Starting ANTS template creation...\")\n    pprint(\"[info] Runtime:\")\n    pprint(runtime)\n    pprint(\"[info] Inputs:\")\n    pprint(inputs)"
      ], 
      "outputs": [], 
      "metadata": {
        "collapsed": false
      }
    }, 
    {
      "source": [
        "Start template creation.\n\n"
      ], 
      "cell_type": "markdown", 
      "metadata": {}
    }, 
    {
      "execution_count": null, 
      "cell_type": "code", 
      "source": [
        "import numpy\nimport subprocess\n\nim_array = numpy.loadtxt(inputs[\"images\"], dtype=str, delimiter=\",\")\nif im_array.ndim == 1:\n    im_array.shape += (1, )\nif im_array.shape[1] != len(inputs[\"weights\"]):\n    raise ValueError(\"Number of modalities mismatched in inputs: {0}.\".format(\n        im_array.shape))\ncmd = [\n    \"antsMultivariateTemplateConstruction2.sh\",\n    \"-d\", str(inputs[\"dimensions\"]),\n    \"-o\", os.path.join(inputs[\"outdir\"], \"T_\"),\n    \"-i\", \"4\",  # iterations of the template construction i*NumImages registrations.\n    \"-g\", str(inputs[\"gradient_step\"]),\n    \"-j\", str(inputs[\"nbthread\"]),\n    \"-c\", \"2\",  # use localhost for execution\n    \"-k\", str(im_array.shape[1]),\n    \"-w\", \"x\".join(inputs[\"weights\"]),\n    \"-f\", \"8x4x2x1\",  # shrink factors\n    \"-s\", \"3x2x1x0\",  # smoothing factors\n    \"-q\", \"100x100x70x20\",  # max iteration for each pairwise registration\n    \"-n\", \"0\" if inputs[\"nobfc\"] else \"1\",\n    \"-r\", \"0\", #TODO 1 # do rigid-body registration of inputs before creating template\n    \"-l\", \"1\", # use linear image registration stages\n    \"-m\", \"CC\", # use cross corelation without specifying the metric radius\n    \"-b\", \"1\", # keep all results\n    \"-t\", \"SyN\", # type of transformation model\n    inputs[\"images\"]]\nif verbose > 0:\n    print(\"[info] Execute command '{0}': may be long...\".format(\" \".join(cmd)))\n\nenvironment = os.environ\nenvironment[\"ANTSPATH\"] = inputs[\"binaries\"]\nenvironment[\"PATH\"] += \":\" + inputs[\"binaries\"]\nprocess = subprocess.Popen(cmd,\n                           env=environment,\n                           stdout=subprocess.PIPE,\n                           stderr=subprocess.PIPE)\nstdout, stderr = process.communicate()\nexitcode = process.returncode\nif exitcode != 0:\n    raise ValueError(\"Command '{0}' failed:: {1}\".format(\n        \" \".join(cmd), stderr + stdout))"
      ], 
      "outputs": [], 
      "metadata": {
        "collapsed": false
      }
    }, 
    {
      "source": [
        "in=\"mask_nii/SXX.native.brain.nii.gz\"\nout=\"out/SXX.brainMaskWarpToTemplate.nii.gz\"\n# generated by the previous script\nref=\"template/T_template0.nii.gz\"\n# generated by the previous script\ntr1=\"Warp/T_SXX.nativeWarp.nii.gz\"\n# generated by the previous script\ntr2=\"mat/T_SXX.nativeGenericAffine.mat\"\n\n${ANTSPATH}/antsApplyTransforms -d3 --float 1 \\\n                                -i $in  \\\n                                -o $out \\ \n                                -r $ref \\\n                                -t $tr1 \\\n                                -t $tr2\n\n"
      ], 
      "cell_type": "markdown", 
      "metadata": {}
    }, 
    {
      "source": [
        "Update the outputs and save them and the inputs in a 'logs' directory.\n\n"
      ], 
      "cell_type": "markdown", 
      "metadata": {}
    }, 
    {
      "execution_count": null, 
      "cell_type": "code", 
      "source": [
        "logdir = os.path.join(inputs[\"outdir\"], \"logs\")\nif not os.path.isdir(logdir):\n    os.mkdir(logdir)\nparams = locals()\noutputs = dict([(name, params[name])\n               for name in (\"cmd\", )])\nfor name, final_struct in [(\"inputs\", inputs), (\"outputs\", outputs),\n                           (\"runtime\", runtime)]:\n    log_file = os.path.join(logdir, \"{0}.json\".format(name))\n    with open(log_file, \"wt\") as open_file:\n        json.dump(final_struct, open_file, sort_keys=True, check_circular=True,\n                  indent=4)\nif verbose > 1:\n    pprint(\"[info] Outputs:\")\n    pprint(outputs)"
      ], 
      "outputs": [], 
      "metadata": {
        "collapsed": false
      }
    }
  ], 
  "metadata": {
    "kernelspec": {
      "display_name": "Python 2", 
      "name": "python2", 
      "language": "python"
    }, 
    "language_info": {
      "mimetype": "text/x-python", 
      "nbconvert_exporter": "python", 
      "name": "python", 
      "file_extension": ".py", 
      "version": "2.7.12", 
      "pygments_lexer": "ipython2", 
      "codemirror_mode": {
        "version": 2, 
        "name": "ipython"
      }
    }
  }
}