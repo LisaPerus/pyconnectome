{
  "nbformat_minor": 0, 
  "nbformat": 4, 
  "cells": [
    {
      "execution_count": null, 
      "cell_type": "code", 
      "source": [
        "%matplotlib inline"
      ], 
      "outputs": [], 
      "metadata": {
        "collapsed": false
      }
    }, 
    {
      "source": [
        "\nPyconnectome Mitk Tractogram\n============================\n\nExample automatically generated from package script.\n\n"
      ], 
      "cell_type": "markdown", 
      "metadata": {}
    }, 
    {
      "execution_count": null, 
      "cell_type": "code", 
      "source": [
        "# System import\nimport os\nimport argparse\nimport json\nfrom pprint import pprint\nfrom datetime import datetime\nimport textwrap\nfrom argparse import RawTextHelpFormatter\n\n# Bredala module\ntry:\n    import bredala\n    bredala.USE_PROFILER = False\n    bredala.register(\"pyconnectome.tractography.globalo\",\n                     names=[\"mitk_gibbs_tractogram\"])\nexcept:\n    pass\n\n# PyFreeSurfer import\nfrom pyfreesurfer import DEFAULT_FREESURFER_PATH\nfrom pyfreesurfer.wrapper import FSWrapper\n\n# Package import\nfrom pyconnectome import __version__ as version\nfrom pyconnectome import DEFAULT_FSL_PATH\nfrom pyconnectome.wrapper import FSLWrapper\nfrom pyconnectome.tractography.globalo import mitk_gibbs_tractogram\n\n\n# Parameters to keep trace\n__hopla__ = [\"runtime\", \"inputs\", \"outputs\"]\n\n\nDOC = \"\"\"\nCompute the tractogram of a given diffusion set using MITK Gibbs Tracking.\n\nExample of command for IMAGEN:\n\npython ~/git/pyconnectome/pyconnectome/scripts/pyconnectome_mitk_tractogram \\\n    -o /tmp/nsap/tractograms/mitk \\\n    -s 000000022453 \\\n    -i /neurospin/imagen/BL/processed/dwi_preproc_wo_fieldmap/000000022453/dwi.nii.gz \\\n    -b /neurospin/imagen/BL/processed/dwi_preproc_wo_fieldmap/000000022453/dwi.bval \\\n    -r /neurospin/imagen/BL/processed/dwi_preproc_wo_fieldmap/000000022453/dwi.bvec \\\n    -n /neurospin/imagen/BL/processed/dwi_preproc_wo_fieldmap/000000022453/nodif_brain.nii.gz \\\n    -B /neurospin/imagen/BL/processed/dwi_preproc_wo_fieldmap/000000022453/nodif_brain_mask.nii.gz \\\n    -M /neurospin/imagen/BL/processed/freesurfer \\\n    -O 4 \\\n    -R 0.06 \\\n    -G 0.001 \\\n    -D /tmp/nsap/tractograms/mitk/tmp \\\n    -N 1000000 \\\n    -v 2\n\nYou may need to export the MITK binaries:\n\nexport PATH=$PATH:/neurospin/nsap/local/MITK/MITK-dmri-install\nexport LD_LIBRARY_PATH=$LD_LIBRARY_PATH:/neurospin/nsap/local/Qt5.7.0/5.7/gcc_64/lib\nexport QT_PLUGIN_PATH=/neurospin/nsap/local/Qt5.7.0/5.7/gcc_64/plugins\n\"\"\"\n\n\ndef is_file(filepath):\n    \"\"\" Check file's existence - argparse 'type' argument.\n    \"\"\"\n    if not os.path.isfile(filepath):\n        raise argparse.ArgumentError(\"File does not exist: %s\" % filepath)\n    return filepath\n\n\ndef get_cmd_line_args():\n    \"\"\"\n    Create a command line argument parser and return a dict mapping\n    <argument name> -> <argument value>.\n    \"\"\"\n    parser = argparse.ArgumentParser(\n        prog=\"pyconnectome_mitk_tractogram\",\n        description=textwrap.dedent(DOC),\n        formatter_class=RawTextHelpFormatter)\n\n    # Required arguments\n    required = parser.add_argument_group(\"required arguments\")\n    required.add_argument(\n        \"-o\", \"--outdir\",\n        required=True, metavar=\"<path>\",\n        help=\"Directory where to output.\")\n    required.add_argument(\n        \"-s\", \"--subject-id\",\n        required=True, metavar=\"<id>\",\n        help=\"Subject identifier.\")\n    required.add_argument(\n        \"-i\", \"--dwi\",\n        type=is_file, required=True, metavar=\"<path>\",\n        help=\"Path to the diffusion data.\")\n    required.add_argument(\n        \"-b\", \"--bvals\",\n        type=is_file, required=True, metavar=\"<path>\",\n        help=\"Path to the bvalue list.\")\n    required.add_argument(\n        \"-r\", \"--bvecs\",\n        type=is_file, required=True, metavar=\"<path>\",\n        help=\"Path to the list of diffusion-sensitized directions.\")\n\n    # Optional arguments\n    parser.add_argument(\n        \"-B\", \"--nodif-brain\",\n        type=is_file, metavar=\"<path>\",\n        help=\"Diffusion brain-only Nifti volume with bvalue ~ 0. If not \"\n             \"passed, it is generated automatically by averaging all the b0 \"\n             \"volumes of the DWI.\")\n    parser.add_argument(\n        \"-M\", \"--nodif-brain-mask\",\n        type=is_file, metavar=\"<path>\",\n        help=\"Path to the Nifti brain binary mask in diffusion. If not \"\n             \"passed, it is created with MRtrix 'dwi2mask'.\")\n    parser.add_argument(\n        \"-S\", \"--subjects-dir\",\n        metavar=\"<path>\",\n        help=\"FreeSurfer subjects directory. To set or bypass the \"\n             \"$SUBJECTS_DIR environment variable.\")\n    parser.add_argument(\n        \"-O\", \"--sh-order\",\n        type=int, metavar=\"<int>\", default=4,\n        help=\"Qball reconstruction spherical harmonics order.\")\n    parser.add_argument(\n        \"-R\", \"--reg-factor\",\n        type=float, metavar=\"<float>\", default=0.006,\n        help=\"Qball reconstruction regularization factor.\")\n    parser.add_argument(\n        \"-N\", \"--nb-iterations\",\n        type=int, metavar=\"<int>\", default=int(5e8),\n        help=\"Gibbs tracking number of iterations.\")\n    parser.add_argument(\n        \"-L\", \"--particle-length\",\n        type=float, default=0.0, metavar=\"<float>\",\n        help=\"Gibbs tracking particle length, selected automatically if 0.\")\n    parser.add_argument(\n        \"-W\", \"--particle-width\",\n        type=float, default=0.0, metavar=\"<float>\",\n        help=\"Gibbs tracking particle width, selected automatically if 0.\")\n    parser.add_argument(\n        \"-G\", \"--particle-weight\",\n        type=float, default=0.0, metavar=\"<float>\",\n        help=\"Gibbs tracking particle weight, selected automatically if 0.\")\n    parser.add_argument(\n        \"-T\", \"--start-temperature\",\n        type=float, default=0.1, metavar=\"<float>\",\n        help=\"Gibbs tracking start temperature.\")\n    parser.add_argument(\n        \"-U\", \"--end-temperature\",\n        type=float, default=0.001, metavar=\"<float>\",\n        help=\"Gibbs tracking end temperature.\")\n    parser.add_argument(\n        \"-Y\", \"--inex-energy-balance\",\n        type=float, default=0.0, metavar=\"<float>\",\n        help=\"Gibbs tracking weighting between in/ext energies.\")\n    parser.add_argument(\n        \"-I\", \"--min-fiber-length\",\n        type=int, default=20, metavar=\"<int>\",\n        help=\"Minimum fiber length in mm. Fibers that are shorter are \"\n             \"discarded.\")\n    parser.add_argument(\n        \"-C\", \"--curvature-threshold\",\n        type=int, default=45, metavar=\"<int>\",\n        help=\"Maximum fiber curvature in degrees.\")\n    parser.add_argument(\n        \"-D\", \"--tempdir\",\n        metavar=\"<path>\",\n        help=\"Where to write temporary directories e.g. /tmp.\")\n    parser.add_argument(\n        \"-H\", \"--fs-sh\",\n        type=is_file, metavar=\"<path>\",\n        help=\"Bash script initializing FreeSurfer's environment.\")\n    parser.add_argument(\n        \"-F\", \"--fsl-sh\",\n        type=is_file, metavar=\"<path>\",\n        help=\"Bash script initializing FSL's environment.\")\n    parser.add_argument(\n        \"-v\", \"--verbose\",\n        type=int, choices=[0, 1, 2], default=2,\n        help=\"Increase the verbosity level: 0 silent, [1, 2] verbose.\")\n\n    # Create a dict of arguments to pass to the 'main' function\n    args = parser.parse_args()\n    kwargs = vars(args)\n    verbose = kwargs.pop(\"verbose\")\n    if kwargs[\"fs_sh\"] is None:\n        kwargs[\"fs_sh\"] = DEFAULT_FREESURFER_PATH\n    if kwargs[\"fsl_sh\"] is None:\n        kwargs[\"fsl_sh\"] = DEFAULT_FSL_PATH\n\n    return kwargs, verbose"
      ], 
      "outputs": [], 
      "metadata": {
        "collapsed": false
      }
    }, 
    {
      "source": [
        "Parse the command line.\n\n"
      ], 
      "cell_type": "markdown", 
      "metadata": {}
    }, 
    {
      "execution_count": null, 
      "cell_type": "code", 
      "source": [
        "inputs, verbose = get_cmd_line_args()\ntool = \"pyconnectome_mitk_tractogram\"\ntimestamp = datetime.now().isoformat()\ntool_version = version\nfsl_version = FSLWrapper([], shfile=inputs[\"fsl_sh\"]).version\nfreesurfer_version = FSWrapper([], inputs[\"fs_sh\"]).version\nparams = locals()\nruntime = dict([(name, params[name])\n               for name in (\"tool\", \"tool_version\", \"fsl_version\",\n                            \"freesurfer_version\", \"timestamp\")])\noutputs = None\nif verbose > 0:\n    pprint(\"[info] Starting MITK tractogram ...\")\n    pprint(\"[info] Runtime:\")\n    pprint(runtime)\n    pprint(\"[info] Inputs:\")\n    pprint(inputs)"
      ], 
      "outputs": [], 
      "metadata": {
        "collapsed": false
      }
    }, 
    {
      "source": [
        "Start the tractogram computation.\n\n"
      ], 
      "cell_type": "markdown", 
      "metadata": {}
    }, 
    {
      "execution_count": null, 
      "cell_type": "code", 
      "source": [
        "mitk_tractogram = mitk_gibbs_tractogram(**inputs)"
      ], 
      "outputs": [], 
      "metadata": {
        "collapsed": false
      }
    }, 
    {
      "source": [
        "Update the outputs and save them and the inputs in a 'logs' directory.\n\n"
      ], 
      "cell_type": "markdown", 
      "metadata": {}
    }, 
    {
      "execution_count": null, 
      "cell_type": "code", 
      "source": [
        "logdir = os.path.join(inputs[\"outdir\"], \"logs\")\nif not os.path.isdir(logdir):\n    os.mkdir(logdir)\nparams = locals()\noutputs = dict([(name, params[name]) for name in (\"mitk_tractogram\", )])\nfor name, final_struct in [(\"inputs\", inputs), (\"outputs\", outputs),\n                           (\"runtime\", runtime)]:\n    log_file = os.path.join(logdir, \"{0}.json\".format(name))\n    with open(log_file, \"wt\") as open_file:\n        json.dump(final_struct, open_file, sort_keys=True, check_circular=True,\n                  indent=4)\nif verbose > 1:\n    pprint(\"[info] Outputs:\")\n    pprint(outputs)"
      ], 
      "outputs": [], 
      "metadata": {
        "collapsed": false
      }
    }
  ], 
  "metadata": {
    "kernelspec": {
      "display_name": "Python 2", 
      "name": "python2", 
      "language": "python"
    }, 
    "language_info": {
      "mimetype": "text/x-python", 
      "nbconvert_exporter": "python", 
      "name": "python", 
      "file_extension": ".py", 
      "version": "2.7.12", 
      "pygments_lexer": "ipython2", 
      "codemirror_mode": {
        "version": 2, 
        "name": "ipython"
      }
    }
  }
}