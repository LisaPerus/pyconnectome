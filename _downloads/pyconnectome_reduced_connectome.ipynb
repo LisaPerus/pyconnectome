{
  "nbformat_minor": 0, 
  "nbformat": 4, 
  "cells": [
    {
      "execution_count": null, 
      "cell_type": "code", 
      "source": [
        "%matplotlib inline"
      ], 
      "outputs": [], 
      "metadata": {
        "collapsed": false
      }
    }, 
    {
      "source": [
        "\nPyconnectome Reduced Connectome\n===============================\n\nExample automatically generated from package script.\n\n"
      ], 
      "cell_type": "markdown", 
      "metadata": {}
    }, 
    {
      "execution_count": null, 
      "cell_type": "code", 
      "source": [
        "# System import\nimport os\nimport argparse\nimport json\nfrom pprint import pprint\nfrom datetime import datetime\nimport textwrap\nfrom argparse import RawTextHelpFormatter\n\n# Bredala module\ntry:\n    import bredala\n    bredala.USE_PROFILER = False\n    bredala.register(\"pyconnectome.connectomes.reduced\",\n                     names=[\"mrtrix_connectomes\"])\nexcept:\n    pass\n\n# PyFreeSurfer import\nfrom pyfreesurfer import DEFAULT_FREESURFER_PATH\nfrom pyfreesurfer.wrapper import FSWrapper\n\n# Package import\nfrom pyconnectome import __version__ as version\nfrom pyconnectome import DEFAULT_FSL_PATH\nfrom pyconnectome.wrapper import FSLWrapper\nfrom pyconnectome.connectomes.reduced import mrtrix_connectomes\n\n\n# Parameters to keep trace\n__hopla__ = [\"runtime\", \"inputs\", \"outputs\"]\n\n\nDOC = \"\"\"\nCompute the connectome of a given parcellation, like the FreeSurfer aparc+aseg\nsegmentation, using MRtrix.\n\nRequirements:\n    - a tractogram in VTK, TXT or TRK format.\n    - parcellation: image of labeled regions, e.g. FreeSurfer aparc+aseg\n    - T1 aligned to diffusion: T1 can be kept in its native resolution as\n      long as it is registered to diffusion.\n\nMRtrix command example on the HCP data:\n\npython $HOME/git/pyconnectome/pyconnectome/scripts/pyconnectome_reduced_connectome \\\n    -p /neurospin/hcp/ANALYSIS/3T_freesurfer/889579/T1w/889579/mri/aparc+aseg.mgz \\\n    -f /i2bm/local/freesurfer/FreeSurferColorLUT.txt \\\n    -c 'lausanne2008' \\\n    -o /tmp/nsap/connectomes/mrtrix \\\n    -d /tmp/nsap/connectomes/mrtrix/tmp \\\n    -b /neurospin/hcp/ANALYSIS/3T_mrtrix/889579/nodif_brain.nii.gz \\\n    -a /neurospin/hcp/ANALYSIS/3T_freesurfer/889579/T1w/889579/mri/brain.mgz \\\n    -t /neurospin/hcp/ANALYSIS/3T_mrtrix/889579/10M.tck \\\n    -X \\\n    -W /neurospin/hcp/ANALYSIS/3T_mrtrix/889579/sift2_weights.txt \\\n    -T mrtrix \\\n    -D /neurospin/hcp/ANALYSIS/3T_mrtrix/889579/dif2anat.dat \\\n    -R 1. \\\n    -A 2.\n\nMITK command example on the IMAGEN data:\n\npython $HOME/git/pyconnectome/pyconnectome/scripts/pyconnectome_reduced_connectome \\\n    -p /neurospin/imagen/BL/processed/freesurfer/000000022453/mri/aparc+aseg.mgz \\\n    -f /i2bm/local/freesurfer/FreeSurferColorLUT.txt \\\n    -c 'lausanne2008' \\\n    -o /neurospin/nsap/cati/imagen/data/connectome/BL/000000022453 \\\n    -d /tmp/nsap/connectomes/mitk/tmp \\\n    -b /neurospin/imagen/BL/processed/dwi_preproc_wo_fieldmap/000000022453/nodif_brain.nii.gz \\\n    -a /neurospin/imagen/BL/processed/freesurfer/000000022453/mri/brain.mgz \\\n    -t /neurospin/nsap/cati/imagen/data/mitk/BL/000000022453/fibers.fib \\\n    -T mitk \\\n    -D /neurospin/nsap/cati/imagen/data/mitk/BL/000000022453/dif2anat.dat \\\n    -R 2. \\\n    -A 5.\n\nConnecomist command example on the HCP data:\n\npython $HOME/git/pyconnectome/pyconnectome/scripts/pyconnectome_reduced_connectome \\\n    -p /neurospin/hcp/ANALYSIS/3T_freesurfer/889579/T1w/889579/mri/aparc+aseg.mgz \\\n    -f /i2bm/local/freesurfer/FreeSurferColorLUT.txt \\\n    -c 'lausanne2008' \\\n    -o /tmp/nsap/connectomes/connectomist \\\n    -d /tmp/nsap/connectomes/connectomist/tmp \\\n    -b /neurospin/hcp/ANALYSIS/3T_mrtrix/889579/nodif_brain.nii.gz \\\n    -a /neurospin/hcp/ANALYSIS/3T_freesurfer/889579/T1w/889579/mri/brain.mgz \\\n    -t /neurospin/hcp/ANALYSIS/3T_connectomist/101006/tract/3000/bundles/interhemispheric/CorpusCallosum_Body.trk /neurospin/hcp/ANALYSIS/3T_connectomist/101006/tract/3000/bundles/interhemispheric/CorpusCallosum_Genu.trk \\\n    -T connectomist \\\n    -D /neurospin/hcp/ANALYSIS/3T_mrtrix/889579/dif2anat.dat \\\n    -R 1. \\\n    -A 2.\n\nFSL command example on the HCP data:\n\npython $HOME/git/pyconnectome/pyconnectome/scripts/pyconnectome_reduced_connectome \\\n    -p /neurospin/hcp/ANALYSIS/3T_freesurfer/102008/T1w/102008/mri/aparc+aseg.mgz \\\n    -f /i2bm/local/freesurfer/FreeSurferColorLUT.txt \\\n    -c 'lausanne2008' \\\n    -o /tmp/nsap/tractograms/fsl/nomask_connectome \\\n    -d /tmp/nsap/tractograms/fsl/nomask_connectome/tmp \\\n    -b /neurospin/hcp/ANALYSIS/3T_mrtrix/102008/nodif_brain.nii.gz \\\n    -a /neurospin/hcp/ANALYSIS/3T_freesurfer/102008/T1w/102008/mri/brain.mgz \\\n    -t /tmp/nsap/tractograms/fsl/nomask/0.1_0.15/saved_paths.txt /tmp/nsap/tractograms/fsl/nomask/0.15_0.2/saved_paths.txt /tmp/nsap/tractograms/fsl/nomask/0.2_0.25/saved_paths.txt /tmp/nsap/tractograms/fsl/nomask/0.25_0.3/saved_paths.txt /tmp/nsap/tractograms/fsl/nomask/0.3_0.35/saved_paths.txt /tmp/nsap/tractograms/fsl/nomask/0.35_0.4/saved_paths.txt /tmp/nsap/tractograms/fsl/nomask/0.4_0.45/saved_paths.txt /tmp/nsap/tractograms/fsl/nomask/0.45_0.5/saved_paths.txt /tmp/nsap/tractograms/fsl/nomask/0.5_0.55/saved_paths.txt /tmp/nsap/tractograms/fsl/nomask/0.55_0.6/saved_paths.txt /tmp/nsap/tractograms/fsl/nomask/0.6_0.65/saved_paths.txt \\\n    -T fsl \\\n    -D /neurospin/hcp/ANALYSIS/3T_mrtrix/102008/dif2anat.dat \\\n    -R 1. \\\n    -A 2.\n\n\nTracula command example on the Imagen data:\n\npython $HOME/git/pyconnectome/pyconnectome/scripts/pyconnectome_reduced_connectome \\\n    -p /neurospin/imagen/BL/processed/freesurfer/000000022453/mri/aparc+aseg.mgz \\\n    -f /i2bm/local/freesurfer/FreeSurferColorLUT.txt \\\n    -c 'lausanne2008' \\\n    -o /neurospin/nsap/processed/imagen/data/connectome/BL/tracula/000000022453 \\\n    -d /tmp/nsap/connectomes/tracula/tmp \\\n    -b /neurospin/imagen/BL/processed/dwi_preproc_wo_fieldmap/000000022453/nodif_brain.nii.gz \\\n    -a /neurospin/imagen/BL/processed/freesurfer/000000022453/mri/brain.mgz \\\n    -t /neurospin/nsap/processed/imagen/data/tracula/BL/000000022453/dpath/fmajor_PP_avg33_mni_bbr/path.pd.trk /neurospin/nsap/processed/imagen/data/tracula/BL/000000022453/dpath/fminor_PP_avg33_mni_bbr/path.pd.trk \\\n    -T tracula \\\n    -D /neurospin/nsap/processed/imagen/data/mitk/BL/000000022453/dif2anat.dat \\\n    -R 2. \\\n    -A 5.\n\"\"\"\n\n\ndef is_file(filepath):\n    \"\"\" Check file's existence - argparse 'type' argument.\n    \"\"\"\n    if not os.path.isfile(filepath):\n        raise argparse.ArgumentError(\"File does not exist: %s\" % filepath)\n    return filepath\n\n\ndef get_cmd_line_args():\n    \"\"\"\n    Create a command line argument parser and return a dict mapping\n    <argument name> -> <argument value>.\n    \"\"\"\n    parser = argparse.ArgumentParser(\n        prog=\"python pyconnectome_reduced_connectome\",\n        description=textwrap.dedent(DOC),\n        formatter_class=RawTextHelpFormatter)\n\n    # Required arguments\n    required = parser.add_argument_group(\"required arguments\")\n    required.add_argument(\n        \"-o\", \"--outdir\",\n        required=True, metavar=\"<path>\",\n        help=\"Directory where to output.\")\n    required.add_argument(\n        \"-d\", \"--tempdir\",\n        required=True, metavar=\"<path>\",\n        help=\"Where to write temporary directories e.g. /tmp.\")\n    required.add_argument(\n        \"-t\", \"--tractogram\",\n        required=True, type=is_file, nargs=\"+\", metavar=\"<path>\",\n        help=\"The tractogram in VTK, TRK, TXT or TCK format. It is possible \"\n             \"to provide a list of tractograms only for Connectomist.\")\n    required.add_argument(\n        \"-a\", \"--t1-brain\",\n        required=True, type=is_file, metavar=\"<path>\",\n        help=\"The anatomical image.\")\n    required.add_argument(\n        \"-b\", \"--nodif-brain\",\n        required=True, type=is_file, metavar=\"<path>\",\n        help=\"Diffusion brain-only volume to use to estimate \"\n             \"the registration between diffusion and T1.\")\n    required.add_argument(\n        \"-p\", \"--t1-parc\",\n        type=is_file, required=True, metavar=\"<path>\",\n        help=\"Path to the parcellation that defines the nodes of the connec\"\n             \"tome, e.g. aparc+aseg.mgz from FreeSurfer. It has to be in the \"\n             \"FreeSurfer space (i.e. aligned with FreeSurfer 'brain.mgz').\")\n    required.add_argument(\n        \"-f\", \"--t1-parc-lut\",\n        type=is_file, required=True, metavar=\"<path>\",\n        help=\"Path to the Look Up Table for the passed parcellation in the \"\n             \"FreeSurfer LUT format. If your T1 parcellation comes from \"\n             \"FreeSurfer, this will most likely be \"\n             \"<$FREESURFER_HOME>/FreeSurferColorLUT.txt.\")\n    required.add_argument(\n        \"-c\", \"--connectome-lut\",\n        metavar=\"<path>\",\n        help=\"Path to a Look Up Table in the FreeSurfer LUT format, listing \"\n             \"the regions from the parcellation to use as nodes in the connec\"\n             \"tome. The region names should match the ones used in the \"\n             \"<t1_parc_lut> LUT and the integer labels should be the row/col \"\n             \"positions in the connectome. Alternatively it can be set to \"\n             \"'Lausanne2008' to use the predefined LUT for the Lausanne 2008 a\"\n             \"tlas, which is based on the FreeSurfer aparc+aseg parcellation.\")\n\n    # Optional arguments\n    parser.add_argument(\n        \"-W\", \"--tractogram-weights\",\n        type=is_file, metavar=\"<path>\",\n        help=\"The weight associated to each fiber: one weight per line.\")\n    parser.add_argument(\n        \"-T\", \"--tractogram-type\",\n        choices=(\"mrtrix\", \"mitk\", \"connectomist\", \"fsl\", \"tracula\"),\n        metavar=\"<type>\", default=\"mrtrix\",\n        help=\"The software used to generate the tractogram. \"\n             \"This parameter is used for format conversion purposes.\")\n    parser.add_argument(\n        \"-D\", \"--dif2anat-dat\",\n        type=is_file, metavar=\"<path>\",\n        help=\"The diffusion to T1 FreeSurfer registration '.dat' file.\")\n    parser.add_argument(\n        \"-M\", \"--dif2anat-mat\",\n        type=is_file, metavar=\"<path>\",\n        help=\"The diffusion to T1 FreeSurfer registration '.mat' file.\")\n    parser.add_argument(\n        \"-X\", \"--fix-freesurfer-subcortical\",\n        action=\"store_true\",\n        help=\"If the <t1_parc> is aparc+aseg or aparc.a2009s+aseg from \"\n             \"FreeSurfer set this option to True, to recompute the \"\n             \"subcortical segmentations of 5 structures that are uncorrectly \"\n             \"segmented by FreeSurfer, using FSL FIRST\")\n    parser.add_argument(\n        \"-R\", \"--radial-search-dist\",\n        type=float, metavar=\"<float>\", default=2.,\n        help=\"Multiple connectomes are generated depending on \"\n             \"the streamline-node association strategy. The \"\n             \"radial search assigns the nearest \"\n             \"node from the streamline endpoint within \"\n             \"this radius (in mm).\")\n    parser.add_argument(\n        \"-A\", \"--forward-search-dist\",\n        type=float, metavar=\"<float>\", default=5.,\n        help=\"Multiple connectomes are generated depending \"\n             \"on the streamline-node \"\n             \"association strategy. The forward assignment \"\n             \"projects the streamline forward from the \"\n             \"endpoint to find a node, within this distance (in mm)\")\n    parser.add_argument(\n        \"-Q\", \"--no-snapshots\",\n        action=\"store_false\", dest=\"snapshots\", default=True,\n        help=\"To not create snapshots of the results. \"\n             \"Useful if matplotlib is not installed.\")\n    parser.add_argument(\n        \"-H\", \"--fs-sh\",\n        type=is_file, metavar=\"<path>\",\n        help=\"Bash script initializing FreeSurfer's environment.\")\n    parser.add_argument(\n        \"-F\", \"--fsl-sh\",\n        type=is_file, metavar=\"<path>\",\n        help=\"Bash script initializing FSL's environment.\")\n    parser.add_argument(\n        \"-v\", \"--verbose\",\n        type=int, choices=[0, 1, 2], default=2,\n        help=\"Increase the verbosity level: 0 silent, [1, 2] verbose.\")\n\n    # Create a dict of arguments to pass to the 'main' function\n    args = parser.parse_args()\n    kwargs = vars(args)\n    verbose = kwargs.pop(\"verbose\")\n    if kwargs[\"fs_sh\"] is None:\n        kwargs[\"fs_sh\"] = DEFAULT_FREESURFER_PATH\n    if kwargs[\"fsl_sh\"] is None:\n        kwargs[\"fsl_sh\"] = DEFAULT_FSL_PATH\n\n    return kwargs, verbose"
      ], 
      "outputs": [], 
      "metadata": {
        "collapsed": false
      }
    }, 
    {
      "source": [
        "Parse the command line.\n\n"
      ], 
      "cell_type": "markdown", 
      "metadata": {}
    }, 
    {
      "execution_count": null, 
      "cell_type": "code", 
      "source": [
        "inputs, verbose = get_cmd_line_args()\ntool = \"pyconnectome_reduced_connectome\"\ntimestamp = datetime.now().isoformat()\ntool_version = version\nfsl_version = FSLWrapper([], shfile=inputs[\"fsl_sh\"]).version\nfreesurfer_version = FSWrapper([], inputs[\"fs_sh\"]).version\nparams = locals()\nruntime = dict([(name, params[name])\n               for name in (\"tool\", \"tool_version\", \"fsl_version\",\n                            \"freesurfer_version\", \"timestamp\")])\noutputs = None\nif verbose > 0:\n    pprint(\"[info] Starting connectome computation ...\")\n    pprint(\"[info] Runtime:\")\n    pprint(runtime)\n    pprint(\"[info] Inputs:\")\n    pprint(inputs)"
      ], 
      "outputs": [], 
      "metadata": {
        "collapsed": false
      }
    }, 
    {
      "source": [
        "Start the connectome computation.\n\n"
      ], 
      "cell_type": "markdown", 
      "metadata": {}
    }, 
    {
      "execution_count": null, 
      "cell_type": "code", 
      "source": [
        "connectome_endvox, connectome_radial, connectome_forward = mrtrix_connectomes(\n    **inputs)"
      ], 
      "outputs": [], 
      "metadata": {
        "collapsed": false
      }
    }, 
    {
      "source": [
        "Update the outputs and save them and the inputs in a 'logs' directory.\n\n"
      ], 
      "cell_type": "markdown", 
      "metadata": {}
    }, 
    {
      "execution_count": null, 
      "cell_type": "code", 
      "source": [
        "logdir = os.path.join(inputs[\"outdir\"], \"logs\")\nif not os.path.isdir(logdir):\n    os.mkdir(logdir)\nparams = locals()\noutputs = dict([(name, params[name])\n               for name in (\"connectome_endvox\", \"connectome_radial\",\n                            \"connectome_forward\")])\nfor name, final_struct in [(\"inputs\", inputs), (\"outputs\", outputs),\n                           (\"runtime\", runtime)]:\n    log_file = os.path.join(logdir, \"{0}.json\".format(name))\n    with open(log_file, \"wt\") as open_file:\n        json.dump(final_struct, open_file, sort_keys=True, check_circular=True,\n                  indent=4)\nif verbose > 1:\n    pprint(\"[info] Outputs:\")\n    pprint(outputs)"
      ], 
      "outputs": [], 
      "metadata": {
        "collapsed": false
      }
    }
  ], 
  "metadata": {
    "kernelspec": {
      "display_name": "Python 2", 
      "name": "python2", 
      "language": "python"
    }, 
    "language_info": {
      "mimetype": "text/x-python", 
      "nbconvert_exporter": "python", 
      "name": "python", 
      "file_extension": ".py", 
      "version": "2.7.12", 
      "pygments_lexer": "ipython2", 
      "codemirror_mode": {
        "version": 2, 
        "name": "ipython"
      }
    }
  }
}