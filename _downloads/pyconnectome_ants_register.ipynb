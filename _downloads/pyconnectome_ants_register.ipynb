{
  "nbformat_minor": 0, 
  "nbformat": 4, 
  "cells": [
    {
      "execution_count": null, 
      "cell_type": "code", 
      "source": [
        "%matplotlib inline"
      ], 
      "outputs": [], 
      "metadata": {
        "collapsed": false
      }
    }, 
    {
      "source": [
        "\nPyconnectome Ants Register\n==========================\n\nExample automatically generated from package script.\n\n"
      ], 
      "cell_type": "markdown", 
      "metadata": {}
    }, 
    {
      "execution_count": null, 
      "cell_type": "code", 
      "source": [
        "# System import\nimport os\nimport argparse\nimport json\nfrom pprint import pprint\nfrom datetime import datetime\nimport textwrap\nfrom argparse import RawTextHelpFormatter\n\n# Bredala module\ntry:\n    import bredala\n    bredala.USE_PROFILER = False\n    #bredala.register(\"pyconnectome.tractography.filtering\",\n    #                 names=[\"life\"])\nexcept:\n    pass\n\n# Package import\nfrom pyconnectome import __version__ as version\n\n\n# Parameters to keep trace\n__hopla__ = [\"runtime\", \"inputs\", \"outputs\"]\n\n\nDOC = \"\"\"\nRegistration with ANTS\n----------------------\n\nCan perform an Affine or Affine+NL registration with ANTS.\n\nCommand example on the SENIOR data - monomodal:\n\npython $HOME/git/pyconnectome/pyconnectome/scripts/pyconnectome_ants_register \\\n    -b /usr/lib/ants \\\n    -o /volatile/nsap/senior/ants \\\n    -i /neurospin/senior/nsap/data/V0/nifti/nc140436/000004_3DT1/3DT1.nii.gz \\\n    -r /neurospin/nsap/processed/senior_t2star/data/fbrain/senior/ants/T_template0.nii.gz \\\n    -w 1 \\\n    -D 3 \\\n    -G 0.1 \\\n    -J 6 \\\n    -N \\\n    -v 2\n\nCommand example on the SENIOR data - multimodal:\n\npython $HOME/git/pyconnectome/pyconnectome/scripts/pyconnectome_ants_register \\\n    -b /usr/lib/ants \\\n    -o /volatile/nsap/senior/ants \\\n    -i /neurospin/senior/nsap/data/V0/nifti/nc140436/000004_3DT1/3DT1.nii.gz /neurospin/senior/nsap/data/V0/nifti/nc140436/000004_3DT1/3DT1.nii.gz \\\n    -r /neurospin/nsap/processed/senior_t2star/data/fbrain/senior/ants/T_template0.nii.gz /neurospin/nsap/processed/senior_t2star/data/fbrain/senior/ants/T_template0.nii.gz \\\n    -w 0.5 0.2 \\\n    -D 3 \\\n    -G 0.2 \\\n    -J 6 \\\n    -N \\\n    -v 2\n\"\"\"\n\n\ndef is_file(filepath):\n    \"\"\" Check file's existence - argparse 'type' argument.\n    \"\"\"\n    if not os.path.isfile(filepath):\n        raise argparse.ArgumentError(\"File does not exist: %s\" % filepath)\n    return filepath\n\ndef is_directory(dirarg):\n    \"\"\" Type for argparse - checks that directory exists.\n    \"\"\"\n    if not os.path.isdir(dirarg):\n        raise argparse.ArgumentError(\n            \"The directory '{0}' does not exist!\".format(dirarg))\n    return dirarg\n\n\ndef get_cmd_line_args():\n    \"\"\"\n    Create a command line argument parser and return a dict mapping\n    <argument name> -> <argument value>.\n    \"\"\"\n    parser = argparse.ArgumentParser(\n        prog=\"python pyconnectome_ants_template\",\n        description=textwrap.dedent(DOC),\n        formatter_class=RawTextHelpFormatter)\n\n    # Required arguments\n    required = parser.add_argument_group(\"required arguments\")\n    required.add_argument(\n        \"-o\", \"--outdir\",\n        type=is_directory, required=True, metavar=\"<path>\",\n        help=\"Directory where to output.\")\n    required.add_argument(\n        \"-b\", \"--binaries\",\n        type=is_directory, required=True, metavar=\"<path>\",\n        help=\"Path to the ANTS binaries.\")\n    required.add_argument(\n        \"-i\", \"--images\",\n        type=is_file, required=True, metavar=\"<path>\", nargs=\"+\",\n        help=\"Path to the input images. One can specify more than one file \"\n             \"for for multi-modal registration (e.g. t1 and t2)..\")\n    required.add_argument(\n        \"-r\", \"--references\",\n        type=is_file, required=True, metavar=\"<path>\",  nargs=\"+\",\n        help=\"Path to the reference images. One can specify more than one \"\n             \"file for for multi-modal registration (e.g. t1 and t2)..\")\n    required.add_argument(\n        \"-w\", \"--weights\",\n        type=float, required=True, nargs=\"+\",\n        help=\"Modality weights used in the similarity metric.\")\n\n    # Optional arguments\n    parser.add_argument(\n        \"-B\", \"--nobfc\",\n        action=\"store_true\", default=False,\n        help=\"If set no bias field correction is performed.\")\n    parser.add_argument(\n        \"-D\", \"--dimensions\",\n        type=int, choices=[2, 3, 4], default=3,\n        help=\"The images dimensions.\")\n    parser.add_argument(\n        \"-N\", \"--dononlinear\", \n        action=\"store_true\",\n        help=\"if set, use the SyN routine to align the subject brain to the \"\n             \"template with a non linear transformation.\")\n    parser.add_argument(\n        \"-G\", \"--gradient-step\",\n        type=float, default=0.25,\n        help=\"Smaller in magnitude results in more cautious steps. Use \"\n             \"smaller steps to refine template details. 0.25 is an upper \"\n             \"(aggressive) limit for this parameter.\")\n    parser.add_argument(\n        \"-J\", \"--nbthread\",\n        type=int, default=2,\n        help=\"Number of cpu cores to use locally.\")\n    parser.add_argument(\n        \"-v\", \"--verbose\",\n        type=int, choices=[0, 1, 2], default=2,\n        help=\"Increase the verbosity level: 0 silent, [1, 2] verbose.\")\n\n    # Create a dict of arguments to pass to the 'main' function\n    args = parser.parse_args()\n    kwargs = vars(args)\n    verbose = kwargs.pop(\"verbose\")\n\n    return kwargs, verbose"
      ], 
      "outputs": [], 
      "metadata": {
        "collapsed": false
      }
    }, 
    {
      "source": [
        "Parse the command line.\n\n"
      ], 
      "cell_type": "markdown", 
      "metadata": {}
    }, 
    {
      "execution_count": null, 
      "cell_type": "code", 
      "source": [
        "inputs, verbose = get_cmd_line_args()\ntool = \"pyconnectome_ants_registration\"\ntimestamp = datetime.now().isoformat()\ntool_version = version\nparams = locals()\nruntime = dict([(name, params[name])\n               for name in (\"tool\", \"tool_version\", \"timestamp\")])\noutputs = None\nif verbose > 0:\n    pprint(\"[info] Starting ANTS registration...\")\n    pprint(\"[info] Runtime:\")\n    pprint(runtime)\n    pprint(\"[info] Inputs:\")\n    pprint(inputs)"
      ], 
      "outputs": [], 
      "metadata": {
        "collapsed": false
      }
    }, 
    {
      "source": [
        "Start registration.\n\n"
      ], 
      "cell_type": "markdown", 
      "metadata": {}
    }, 
    {
      "execution_count": null, 
      "cell_type": "code", 
      "source": [
        "import numpy\nimport subprocess\n\n\ndef to_ants_list(l):\n    \"\"\" Transform a Python list to an ANTS list.\n\n    Parameters\n    ----------\n    l: list\n        a Python list.\n\n    Returns\n    -------\n    a: str\n        an 'x' separated ANTS list.\n    \"\"\"\n    ll = [str(e) for e in l]\n    return \"x\".join(ll)\n\n\n# Check inputs\nif len(inputs[\"images\"]) != len(inputs[\"weights\"]):\n    raise ValueError(\"Number of modalities mismatched in inputs.\")\nif len(inputs[\"images\"]) != len(inputs[\"references\"]):\n    raise ValueError(\"Number of references mismatched number of inputs.\")\n\n\n# Define parameters\nnb_modalities = len(inputs[\"images\"])\ntransforms = [\"Affine\", \"SyN\"]\nradius_or_number_of_bins = [32, 4]\nsampling_percentage = [0.25, None]\nsampling_strategy = [\"Regular\", None]\nconvergence_threshold = [1.e-6, 1.e-9]\nconvergence_window_size = [10, 10]\nnumber_of_iterations = [[1000, 500, 250, 0], [100, 100, 70, 20]]\ntransform_parameters = [(inputs[\"gradient_step\"], ),\n                        (inputs[\"gradient_step\"], 3.0, 0.0)]\nshrink_factors = [[6, 4, 2, 1], [8, 4, 2, 1]]\nsmoothing_sigmas = [[4, 2, 1, 0], [3, 2, 1, 0]]\nuse_histogram_matching = [True, True]\nmetric_weight = [inputs[\"weights\"], inputs[\"weights\"]]\nbaseoutput = os.path.join(inputs[\"outdir\"], \"ants_\")\n\n\n# Do bias field corrections\n# -x: mask image\nif not inputs[\"nobfc\"]:\n    print(\"Starting bias field corrections...\")\n    for index in range(nb_modalities):\n        biascorrectedfile = os.path.join(inputs[\"outdir\"], \"ants_BFC.nii.gz\")\n        cmd0 = [\n            \"N4BiasFieldCorrection\",\n            \"-d\", str(inputs[\"dimensions\"]),\n            \"-b\", \"[200]\",  # b-spline fitting parameters as the isotropic sizing of the mesh elements\n            \"-c\", \"[50x50x40x30, 0.00000001]\",  # convergence as number of iterations at each resolution and convergence threshold\n            \"-i\", inputs[\"images\"][index],\n            \"-o\", biascorrectedfile,\n            \"-r\", \"0\",  # no intensity resacling\n            \"-s\", \"2\",  # shrink factor\n            \"-v\", \"1\" if verbose > 0 else \"0\"]\n        if verbose > 0:\n            print(\"-\" * 20)\n            print(\" \".join(cmd0))\n            print(\"-\" * 20)\n        environment = os.environ\n        environment[\"ANTSPATH\"] = inputs[\"binaries\"]\n        environment[\"PATH\"] += \":\" + inputs[\"binaries\"]\n        process = subprocess.Popen(cmd0,\n                                   env=environment,\n                                   stdout=subprocess.PIPE,\n                                   stderr=subprocess.PIPE)\n        stdout, stderr = process.communicate()\n        exitcode = process.returncode\n        if exitcode != 0:\n            raise ValueError(\"Command '{0}' failed:: {1}\".format(\n                \" \".join(cmd0), stderr + stdout))\n        inputs[\"images\"][index] = biascorrectedfile\n    print(\"Done.\")\nelse:\n    cmd0 = None\n\n\n# Basic registration options\nprint(\"Starting registration...\")\ncmd1 = [\n    \"antsRegistration\",\n    \"-d\", str(inputs[\"dimensions\"]),\n    \"--float\", \"1\",\n    \"--verbose\", \"1\" if verbose > 0 else \"0\",\n    \"-u\", \"1\",\n    \"-n\", \"Linear\",\n    \"-w\", \"[0.005,0.995]\",\n    \"-z\", \"1\",\n    \"-r\", \"[{0},{1},1]\".format(inputs[\"references\"][0], inputs[\"images\"][0]),\n    \"-o\", baseoutput]\n# Affine options\ncmd1 += [\"-t\", \"Affine[{0}]\".format(inputs[\"gradient_step\"])]\nfor index in range(nb_modalities):\n    cmd1 += [\"-m\", \"MI[{0},{1},{2},{3},{4},{5}]\".format(\n        inputs[\"references\"][index],\n        inputs[\"images\"][index],\n        metric_weight[0][index],\n        radius_or_number_of_bins[0],\n        sampling_strategy[0],\n        sampling_percentage[0])]\ncmd1 += [\n    \"-c\", \"[{0},{1},{2}]\".format(\n        to_ants_list(number_of_iterations[0]),\n        convergence_threshold[0],\n        convergence_window_size[0]),\n    \"-f\", to_ants_list(shrink_factors[0]),\n    \"-s\", to_ants_list(smoothing_sigmas[0])]\n# NL options\nif inputs[\"dononlinear\"]:\n    cmd1 += [\"-t\", \"SyN[{0},3,0]\".format(inputs[\"gradient_step\"])]\n    for index in range(nb_modalities):\n        cmd1 += [\"-m\", \"CC[{0},{1},{2},{3}]\".format(\n            inputs[\"references\"][index],\n            inputs[\"images\"][index],\n            metric_weight[1][index],\n            radius_or_number_of_bins[1])]\n    cmd1 += [\n        \"-c\", \"[{0},{1},{2}]\".format(\n            to_ants_list(number_of_iterations[1]),\n            convergence_threshold[1],\n            convergence_window_size[1]),\n        \"-f\", to_ants_list(shrink_factors[1]),\n        \"-s\", to_ants_list(smoothing_sigmas[1])]\nif verbose > 0:\n    print(\"-\" * 20)\n    print(\" \".join(cmd1))\n    print(\"-\" * 20)\nenvironment = os.environ\nenvironment[\"ANTSPATH\"] = inputs[\"binaries\"]\nenvironment[\"PATH\"] += \":\" + inputs[\"binaries\"]\nprocess = subprocess.Popen(cmd1,\n                           env=environment,\n                           stdout=subprocess.PIPE,\n                           stderr=subprocess.PIPE)\nstdout, stderr = process.communicate()\nexitcode = process.returncode\nif exitcode != 0:\n    raise ValueError(\"Command '{0}' failed:: {1}\".format(\n        \" \".join(cmd1), stderr + stdout))\naffinefile = baseoutput + \"0GenericAffine.mat\"\nfieldfile = baseoutput + \"1Warp.nii.gz\"\nprint(\"Done.\")\n\n\n# Apply deformation\nprint(\"Apply deformation...\")\nwarpedfiles = []\nfor index in range(nb_modalities):\n    outfile = os.path.join(inputs[\"outdir\"], \"ants_2WarpToTemplate.nii.gz\")\n    cmd2 = [\n        \"antsApplyTransforms\",\n        \"-d\", str(inputs[\"dimensions\"]),\n        \"--float\", \"1\",\n        \"--verbose\", \"1\" if verbose > 0 else \"0\",\n        \"-i\", inputs[\"images\"][index],\n        \"-o\", outfile,\n        \"-r\", inputs[\"references\"][index],\n        \"-t\", fieldfile,\n        \"-t\", affinefile,\n        \"-n\", \"BSpline\"]\nif verbose > 0:\n    print(\"-\" * 20)\n    print(\" \".join(cmd2))\n    print(\"-\" * 20)\nenvironment = os.environ\nenvironment[\"ANTSPATH\"] = inputs[\"binaries\"]\nenvironment[\"PATH\"] += \":\" + inputs[\"binaries\"]\nprocess = subprocess.Popen(cmd2,\n                           env=environment,\n                           stdout=subprocess.PIPE,\n                           stderr=subprocess.PIPE)\nstdout, stderr = process.communicate()\nexitcode = process.returncode\nif exitcode != 0:\n    raise ValueError(\"Command '{0}' failed:: {1}\".format(\n        \" \".join(cmd2), stderr + stdout))\nprint(\"Done.\")"
      ], 
      "outputs": [], 
      "metadata": {
        "collapsed": false
      }
    }, 
    {
      "source": [
        "Update the outputs and save them and the inputs in a 'logs' directory.\n\n"
      ], 
      "cell_type": "markdown", 
      "metadata": {}
    }, 
    {
      "execution_count": null, 
      "cell_type": "code", 
      "source": [
        "logdir = os.path.join(inputs[\"outdir\"], \"logs\")\nif not os.path.isdir(logdir):\n    os.mkdir(logdir)\nparams = locals()\noutputs = dict([(name, params[name])\n               for name in (\"cmd0\", \"cmd1\", \"cmd2\", \"affinefile\",\n                            \"fieldfile\")])\nfor name, final_struct in [(\"inputs\", inputs), (\"outputs\", outputs),\n                           (\"runtime\", runtime)]:\n    log_file = os.path.join(logdir, \"{0}.json\".format(name))\n    with open(log_file, \"wt\") as open_file:\n        json.dump(final_struct, open_file, sort_keys=True, check_circular=True,\n                  indent=4)\nif verbose > 1:\n    pprint(\"[info] Outputs:\")\n    pprint(outputs)"
      ], 
      "outputs": [], 
      "metadata": {
        "collapsed": false
      }
    }
  ], 
  "metadata": {
    "kernelspec": {
      "display_name": "Python 2", 
      "name": "python2", 
      "language": "python"
    }, 
    "language_info": {
      "mimetype": "text/x-python", 
      "nbconvert_exporter": "python", 
      "name": "python", 
      "file_extension": ".py", 
      "version": "2.7.12", 
      "pygments_lexer": "ipython2", 
      "codemirror_mode": {
        "version": 2, 
        "name": "ipython"
      }
    }
  }
}