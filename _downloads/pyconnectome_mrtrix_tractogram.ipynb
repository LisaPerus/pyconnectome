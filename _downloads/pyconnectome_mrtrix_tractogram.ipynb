{
  "nbformat_minor": 0, 
  "nbformat": 4, 
  "cells": [
    {
      "execution_count": null, 
      "cell_type": "code", 
      "source": [
        "%matplotlib inline"
      ], 
      "outputs": [], 
      "metadata": {
        "collapsed": false
      }
    }, 
    {
      "source": [
        "\nPyconnectome Mrtrix Tractogram\n==============================\n\nExample automatically generated from package script.\n\n"
      ], 
      "cell_type": "markdown", 
      "metadata": {}
    }, 
    {
      "execution_count": null, 
      "cell_type": "code", 
      "source": [
        "# System import\nimport os\nimport argparse\nimport json\nfrom pprint import pprint\nfrom datetime import datetime\nimport textwrap\nfrom argparse import RawTextHelpFormatter\n\n# Bredala module\ntry:\n    import bredala\n    bredala.USE_PROFILER = False\n    bredala.register(\"pyconnectome.tractography.probabilist\",\n                     names=[\"mrtrix_tractogram\"])\nexcept:\n    pass\n\n# PyFreeSurfer import\nfrom pyfreesurfer import DEFAULT_FREESURFER_PATH\nfrom pyfreesurfer.wrapper import FSWrapper\n\n# Package import\nfrom pyconnectome import __version__ as version\nfrom pyconnectome import DEFAULT_FSL_PATH\nfrom pyconnectome.wrapper import FSLWrapper\nfrom pyconnectome.tractography.probabilist import mrtrix_tractogram\n\n\n# Parameters to keep trace\n__hopla__ = [\"runtime\", \"inputs\", \"outputs\"]\n\n\nDOC = \"\"\"\nCompute the tractogram of a diffusion dataset using MRtrix.\n\nRequirements:\n    - preprocessed DWI with bvals/bvecs: if distortion artifacts from\n      acquisition have been properly corrected.\n    - FreeSurfer recon-all or a T1 aligned to diffusion. T1 can be kept in\n      its native resolution as long as it is registered to diffusion.\n\n\nExample of command for HCP, using SIFT2:\n\npython $HOME/git/pyconnectome/pyconnectome/scripts/pyconnectome_mrtrix_tractogram \\\n    -o /tmp/nsap/tractograms/mrtrix \\\n    -d /tmp/nsap/tractograms/mrtrix/tmp \\\n    -s 889579 \\\n    -i /neurospin/hcp/ANALYSIS/3T_freesurfer/889579/T1w/Diffusion/data.nii.gz \\\n    -b /neurospin/hcp/ANALYSIS/3T_freesurfer/889579/T1w/Diffusion/bvals \\\n    -r /neurospin/hcp/ANALYSIS/3T_freesurfer/889579/T1w/Diffusion/bvecs \\\n    -n 5 \\\n    -T 1 \\\n    -L 250 \\\n    -C 0.06 \\\n    -I \\\n    -Z \\\n    -M /neurospin/hcp/ANALYSIS/3T_freesurfer/889579/T1w/Diffusion/nodif_brain_mask.nii.gz \\\n    -A /neurospin/hcp/ANALYSIS/3T_freesurfer/889579/T1w/T1w_acpc_dc_restore.nii.gz \\\n    -S /neurospin/hcp/ANALYSIS/3T_freesurfer/889579/T1w \\\n    -v 2\n\nExample of command for HCP, using global tractography (experimental):\n\npython $HOME/git/pyconnectome/pyconnectome/scripts/pyconnectome_mrtrix_tractogram \\\n    -o /tmp/nsap/tractograms/mrtrix \\\n    -d /tmp/nsap/tractograms/mrtrix/tmp \\\n    -s 889579 \\\n    -i /neurospin/hcp/ANALYSIS/3T_freesurfer/889579/T1w/Diffusion/data.nii.gz \\\n    -b /neurospin/hcp/ANALYSIS/3T_freesurfer/889579/T1w/Diffusion/bvals \\\n    -r /neurospin/hcp/ANALYSIS/3T_freesurfer/889579/T1w/Diffusion/bvecs \\\n    -G \\\n    -M /neurospin/hcp/ANALYSIS/3T_freesurfer/889579/T1w/Diffusion/nodif_brain_mask.nii.gz \\\n    -A /neurospin/hcp/ANALYSIS/3T_freesurfer/889579/T1w/T1w_acpc_dc_restore.nii.gz \\\n    -S \n    -v 2\n\"\"\"\n\n\ndef is_file(filepath):\n    \"\"\" Check file's existence - argparse 'type' argument.\n    \"\"\"\n    if not os.path.isfile(filepath):\n        raise argparse.ArgumentError(\"File does not exist: %s\" % filepath)\n    return filepath\n\n\ndef get_cmd_line_args():\n    \"\"\"\n    Create a command line argument parser and return a dict mapping\n    <argument name> -> <argument value>.\n    \"\"\"\n    parser = argparse.ArgumentParser(\n        prog=\"pyconnectome_mrtrix_tractogram\",\n        description=textwrap.dedent(DOC),\n        formatter_class=RawTextHelpFormatter)\n\n    # Required arguments\n    required = parser.add_argument_group(\"required arguments\")\n    required.add_argument(\n        \"-o\", \"--outdir\",\n        required=True, metavar=\"<path>\",\n        help=\"Directory where to output.\")\n    required.add_argument(\n        \"-d\", \"--tempdir\",\n        required=True, metavar=\"<path>\",\n        help=\"Where to write temporary directories e.g. /tmp.\")\n    required.add_argument(\n        \"-s\", \"--subject-id\",\n        required=True, metavar=\"<id>\",\n        help=\"Subject identifier.\")\n    required.add_argument(\n        \"-i\", \"--dwi\",\n        type=is_file, required=True, metavar=\"<path>\",\n        help=\"Path to the diffusion data.\")\n    required.add_argument(\n        \"-b\", \"--bvals\",\n        type=is_file, required=True, metavar=\"<path>\",\n        help=\"Path to the bvalue list.\")\n    required.add_argument(\n        \"-r\", \"--bvecs\",\n        type=is_file, required=True, metavar=\"<path>\",\n        help=\"Path to the list of diffusion-sensitized directions.\")\n    required.add_argument(\n        \"-n\", \"--nb-threads\",\n        required=True, type=int, metavar=\"<int>\",\n        help=\"Number of threads.\")\n\n    # Optional arguments\n    parser.add_argument(\n        \"-G\", \"--global-tractography\",\n        action=\"store_true\",\n        help=\"If set run global tractography (tckglobal) instead of local \"\n             \"(tckgen).\")\n    parser.add_argument(\n        \"-T\", \"--mtracks\",\n        type=int, metavar=\"<int>\",\n        help=\"For non-global tractography only. \"\n             \"Number of millions of tracks in raw tractogram.\")\n    parser.add_argument(\n        \"-L\", \"--maxlength\",\n        type=int, metavar=\"<int>\",\n        help=\"For non-global tractography only. Max fiber length in mm.\")\n    parser.add_argument(\n        \"-C\", \"--cutoff\",\n        type=float, metavar=\"<float>\",\n        help=\"For non-global tractography only. FOD cutoff=stopping criteria.\")\n    parser.add_argument(\n        \"-I\", \"--seed-gmwmi\",\n        action=\"store_true\",\n        help=\"Set this option if you want to activate the \"\n             \"'-seed_gmwmi' option of MRtrix 'tckgen', to \"\n             \"seed from the GM/WM interface. Otherwise, and \"\n             \"by default, the seeding is done in white matter \"\n             \"('-seed_dynamic' option).\")\n    parser.add_argument(\n        \"-R\", \"--sift-mtracks\", type=int, metavar=\"<int>\",\n        help=\"Number of millions of tracks to keep with SIFT. \"\n             \"If not set, SIFT is not applied.\")\n    parser.add_argument(\n        \"-Z\", \"--sift2\", action=\"store_true\",\n        help=\"To activate SIFT2.\")\n    parser.add_argument(\n        \"-B\", \"--nodif-brain\",\n        type=is_file, metavar=\"<path>\",\n        help=\"Diffusion brain-only Nifti volume with bvalue ~ 0. If not \"\n              \"passed, it is generated automatically by averaging all the b0 \"\n              \"volumes of the DWI.\")\n    parser.add_argument(\n        \"-M\", \"--nodif-brain-mask\",\n        type=is_file, metavar=\"<path>\",\n        help=\"Path to the Nifti brain binary mask in diffusion. If not \"\n        \"passed, it is created with MRtrix 'dwi2mask'.\")\n    parser.add_argument(\n        \"-A\", \"--fast-t1-brain\",\n        type=is_file, metavar=\"<path>\",\n        help=\"By default FSL FAST is run on the FreeSurfer 'brain.mgz'. If \"\n             \"you want the WM probability map to be computed from another T1, \"\n             \"pass the T1 brain-only volume. Note that it has to be aligned \"\n             \"with diffusion. This argument is useful for HCP, where some \"\n             \"FreeSurfer 'brain.mgz' cannot be processed by FSL FAST.\")\n    parser.add_argument(\n        \"-S\", \"--subjects-dir\", metavar=\"<path>\",\n        help=\"FreeSurfer subjects directory. To set or bypass the \"\n             \"$SUBJECTS_DIR environment variable.\")\n    parser.add_argument(\n        \"-U\", \"--no-mif-gz\",\n        action=\"store_false\", dest=\"mif_gz\", default=True,\n        help=\"To not compress MIF files: .mif instead of .mif.gz.\")   \n    parser.add_argument(\n        \"-D\", \"--delete-raw-tracks\",\n        action=\"store_true\",\n        help=\"To save disk space, delete the raw tracks when \"\n             \"the connectome has been computed.\")\n    parser.add_argument(\n        \"-K\", \"--keep-dwi-mif\",\n        action=\"store_false\", dest=\"delete_dwi_mif\", default=True,\n        help=\"To not delete <outdir>/DWI.mif, which is a copy \"\n             \"of the input <dwi> in the .mif format.\")\n    parser.add_argument(\n        \"-H\", \"--fs-sh\",\n        type=is_file, metavar=\"<path>\",\n        help=\"Bash script initializing FreeSurfer's environment.\")\n    parser.add_argument(\n        \"-F\", \"--fsl-sh\",\n        type=is_file, metavar=\"<path>\",\n        help=\"Bash script initializing FSL's environment.\")\n    parser.add_argument(\n        \"-v\", \"--verbose\",\n        type=int, choices=[0, 1, 2], default=2,\n        help=\"Increase the verbosity level: 0 silent, [1, 2] verbose.\")\n\n    # Create a dict of arguments to pass to the 'main' function\n    args = parser.parse_args()\n    kwargs = vars(args)\n    verbose = kwargs.pop(\"verbose\")\n    if kwargs[\"fs_sh\"] is None:\n        kwargs[\"fs_sh\"] = DEFAULT_FREESURFER_PATH\n    if kwargs[\"fsl_sh\"] is None:\n        kwargs[\"fsl_sh\"] = DEFAULT_FSL_PATH\n\n    return kwargs, verbose"
      ], 
      "outputs": [], 
      "metadata": {
        "collapsed": false
      }
    }, 
    {
      "source": [
        "Parse the command line.\n\n"
      ], 
      "cell_type": "markdown", 
      "metadata": {}
    }, 
    {
      "execution_count": null, 
      "cell_type": "code", 
      "source": [
        "inputs, verbose = get_cmd_line_args()\ntool = \"pyconnectome_mrtrix_tractogram\"\ntimestamp = datetime.now().isoformat()\ntool_version = version\nfsl_version = FSLWrapper([], shfile=inputs[\"fsl_sh\"]).version\nfreesurfer_version = FSWrapper([], inputs[\"fs_sh\"]).version\nparams = locals()\nruntime = dict([(name, params[name])\n               for name in (\"tool\", \"tool_version\", \"fsl_version\",\n                            \"freesurfer_version\", \"timestamp\")])\noutputs = None\nif verbose > 0:\n    pprint(\"[info] Starting MRTrix3 tractogram ...\")\n    pprint(\"[info] Runtime:\")\n    pprint(runtime)\n    pprint(\"[info] Inputs:\")\n    pprint(inputs)"
      ], 
      "outputs": [], 
      "metadata": {
        "collapsed": false
      }
    }, 
    {
      "source": [
        "Start the tractogram computation.\n\n"
      ], 
      "cell_type": "markdown", 
      "metadata": {}
    }, 
    {
      "execution_count": null, 
      "cell_type": "code", 
      "source": [
        "tracks, sift_tracks, sift2_weights = mrtrix_tractogram(**inputs)"
      ], 
      "outputs": [], 
      "metadata": {
        "collapsed": false
      }
    }, 
    {
      "source": [
        "Update the outputs and save them and the inputs in a 'logs' directory.\n\n"
      ], 
      "cell_type": "markdown", 
      "metadata": {}
    }, 
    {
      "execution_count": null, 
      "cell_type": "code", 
      "source": [
        "logdir = os.path.join(inputs[\"outdir\"], \"logs\")\nif not os.path.isdir(logdir):\n    os.mkdir(logdir)\nparams = locals()\noutputs = dict([(name, params[name])\n               for name in (\"tracks\", \"sift_tracks\", \"sift2_weights\")])\nfor name, final_struct in [(\"inputs\", inputs), (\"outputs\", outputs),\n                           (\"runtime\", runtime)]:\n    log_file = os.path.join(logdir, \"{0}.json\".format(name))\n    with open(log_file, \"wt\") as open_file:\n        json.dump(final_struct, open_file, sort_keys=True, check_circular=True,\n                  indent=4)\nif verbose > 1:\n    pprint(\"[info] Outputs:\")\n    pprint(outputs)"
      ], 
      "outputs": [], 
      "metadata": {
        "collapsed": false
      }
    }
  ], 
  "metadata": {
    "kernelspec": {
      "display_name": "Python 2", 
      "name": "python2", 
      "language": "python"
    }, 
    "language_info": {
      "mimetype": "text/x-python", 
      "nbconvert_exporter": "python", 
      "name": "python", 
      "file_extension": ".py", 
      "version": "2.7.12", 
      "pygments_lexer": "ipython2", 
      "codemirror_mode": {
        "version": 2, 
        "name": "ipython"
      }
    }
  }
}