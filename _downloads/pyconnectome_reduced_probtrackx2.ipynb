{
  "nbformat_minor": 0, 
  "nbformat": 4, 
  "cells": [
    {
      "execution_count": null, 
      "cell_type": "code", 
      "source": [
        "%matplotlib inline"
      ], 
      "outputs": [], 
      "metadata": {
        "collapsed": false
      }
    }, 
    {
      "source": [
        "\nPyconnectome Reduced Probtrackx2\n================================\n\nExample automatically generated from package script.\n\n"
      ], 
      "cell_type": "markdown", 
      "metadata": {}
    }, 
    {
      "execution_count": null, 
      "cell_type": "code", 
      "source": [
        "# System import\nimport os\nimport argparse\nimport json\nfrom pprint import pprint\nfrom datetime import datetime\nimport textwrap\nfrom argparse import RawTextHelpFormatter\n\n# Bredala module\ntry:\n    import bredala\n    bredala.USE_PROFILER = False\n    bredala.register(\"pyconnectome.connectomes.reduced\",\n                     names=[\"probtrackx2_connectome\"])\nexcept:\n    pass\n\n# PyFreeSurfer import\nfrom pyfreesurfer import DEFAULT_FREESURFER_PATH\nfrom pyfreesurfer.wrapper import FSWrapper\n\n# Package import\nfrom pyconnectome import __version__ as version\nfrom pyconnectome import DEFAULT_FSL_PATH\nfrom pyconnectome.wrapper import FSLWrapper\nfrom pyconnectome.connectomes.reduced import probtrackx2_connectome\n\n\n# Parameters to keep trace\n__hopla__ = [\"runtime\", \"inputs\", \"outputs\"]\n\n\nDOC = \"\"\"\nCompute the connectome of a given parcellation, like the FreeSurfer aparc+aseg\nsegmentation, using FSL Probtrackx2. Assuming you have run Freesurfer and\nbedpostx.\n\nExample of command for HCP, propagation through the white-grey interface:\n\npython ~/git/pyconnectome/pyconnectome/scripts/pyconnectome_reduced_probtrackx2 \\\n    -s ${subject} \\\n    -B ${root_dir}/dwi_preproc_wo_fieldmap/${subject}/nodif_brain.nii.gz \\\n    -m ${root_dir}/dwi_preproc_wo_fieldmap/${subject}/nodif_brain_mask.nii.gz \\\n    -x ${root_dir}/bedpostx_wo_fieldmap/${subject}/diffusion.bedpostX \\\n    -p ${root_dir}/freesurfer/${subject}/mri/aparc+aseg.mgz \\\n    -f ${FREESURFER_HOME}/FreeSurferColorLUT.txt \\\n    -c lausanne2008 \\\n    -N 500 \\\n    -P 200 \\\n    -L 1.25 \\\n    -o /volatile/imagen/probtrackx2/${subject} \\\n    -d /volatile/imagen/probtrackx2/tmp \\\n    -u \\\n    -S /neurospin/imagen/BL/processed/freesurfer \\\n    -v 2\n\nExample of command for HCP, propagation through the white matter with fiber\nlength normalization:\n\"\"\"\n\n\ndef is_file(filepath):\n    \"\"\" Check file's existence - argparse 'type' argument.\n    \"\"\"\n    if not os.path.isfile(filepath):\n        raise argparse.ArgumentError(\"File does not exist: %s\" % filepath)\n    return filepath\n\n\ndef is_dir(dirpath):\n    \"\"\" Check direcory's existence - argparse 'type' argument.\n    \"\"\"\n    if not os.path.isdir(dirpath):\n        raise argparse.ArgumentError(\"Directory does not exist: %s\" % dirpath)\n    return dirpath\n\n\ndef get_cmd_line_args():\n    \"\"\"\n    Create a command line argument parser and return a dict mapping\n    <argument name> -> <argument value>.\n    \"\"\"\n    parser = argparse.ArgumentParser(\n        prog=\"pyconnectome_reduced_probtrackx2\",\n        formatter_class=argparse.RawDescriptionHelpFormatter,\n        description=textwrap.dedent(doc))\n\n    # Required arguments\n    required = parser.add_argument_group(\"required arguments\")\n    required.add_argument(\n        \"-s\", \"--subject-id\",\n        required=True, metavar=\"<id>\",\n        help=\"Subject identifier.\")\n    required.add_argument(\n        \"-b\", \"--nodif-brain\",\n        type=is_file, required=True, metavar=\"<path>\",\n        help=\"Preprocessed brain-only volume with bvalue=0.\")\n    required.add_argument(\n        \"-m\", \"--nodif-brain-mask\",\n        type=is_file, required=True, metavar=\"<path>\",\n        help=\"Brain binary mask in diffusion.\")\n    required.add_argument(\n        \"-x\", \"--bedpostx-dir\",\n        type=is_dir, required=True, metavar=\"<path>\",\n        help=\"Bedpostx output directory.\")\n    required.add_argument(\n        \"-p\", \"--t1-parc\",\n        type=is_file, required=True, metavar=\"<path>\",\n        help=\"Path to the parcellation that defines the nodes \"\n             \"of the connectome, e.g. aparc+aseg.mgz from Free\"\n             \"surfer. Has to be in Freesurfer T1 space.\")\n    required.add_argument(\n        \"-f\", \"--t1-parc-lut\",\n        type=is_file, required=True, metavar=\"<path>\",\n        help=\"Path to the Look Up Table for the passed parcellation in the \"\n             \"Freesurfer LUT format. If your T1 parcellation comes from \"\n             \"Freesurfer, this will most likely be \"\n             \"<$FREESURFER_HOME>/FreeSurferColorLUT.txt.\")\n    required.add_argument(\n        \"-c\", \"--connectome-lut\",\n        metavar=\"<path>\", required=True,\n        help=\"Path to a Look Up Table in the FreeSurfer LUT format, listing \"\n             \"the regions from the parcellation to use as nodes in the connec\"\n             \"tome. The region names should match the ones used in the \"\n             \"<t1_parc_lut> LUT and the integer labels should be the row/col \"\n             \"positions in the connectome. Alternatively it can be set to \"\n             \"'Lausanne2008' to use the predefined LUT for the Lausanne 2008 a\"\n             \"tlas, which is based on the FreeSurfer aparc+aseg parcellation.\")\n    required.add_argument(\n        \"-n\", \"--nsamples\",\n        type=int, required=True, metavar=\"<int>\",\n        help=\"Number of samples per voxel to initiate in seed region\")\n    required.add_argument(\n        \"-e\", \"--nsteps\",\n        type=int, required=True, metavar=\"<int>\",\n        help=\"Maximum number of steps for a sample.\")\n    required.add_argument(\n        \"-l\", \"--steplength\",\n        type=float, required=True, metavar=\"<float>\",\n        help=\"Step length in mm.\")\n    required.add_argument(\n        \"-o\", \"--outdir\",\n        required=True, metavar=\"<path>\",\n        help=\"Directory where to output.\")\n    required.add_argument(\n        \"-d\", \"--tempdir\",\n        required=True, metavar=\"<path>\",\n        help=\"Where to write temporary directories e.g. /tmp.\")\n\n    # Optional arguments\n    parser.add_argument(\n        \"-U\", \"--fix-freesurfer-subcortical\",\n        action=\"store_true\",\n        help=\"If the <t1_parc> is aparc+aseg or aparc.a2009s+aseg from \"\n             \"FreeSurfer set this option to True, to recompute the \"\n             \"subcortical segmentations of 5 structures that are uncorrectly \"\n             \"segmented by FreeSurfer, using FSL FIRST\")\n    parser.add_argument(\n        \"-S\", \"--subjects-dir\",\n        metavar=\"<path>\",\n        help=\"To set or bypass the $SUBJECTS_DIR environment variable.\")\n    parser.add_argument(\n        \"-Q\", \"--no-snapshots\",\n        action=\"store_false\", dest=\"snapshots\", default=True,\n        help=\"To not create snapshots of the results. \"\n             \"Useful if matplotlib is not installed.\")\n    parser.add_argument(\n        \"-H\", \"--fs-sh\",\n        type=is_file, metavar=\"<path>\",\n        help=\"Bash script initializing FreeSurfer's environment.\")\n    parser.add_argument(\n        \"-F\", \"--fsl-sh\",\n        type=is_file, metavar=\"<path>\",\n        help=\"Bash script initializing FSL's environment.\")\n    parser.add_argument(\n        \"-v\", \"--verbose\",\n        type=int, choices=[0, 1, 2], default=2,\n        help=\"Increase the verbosity level: 0 silent, [1, 2] verbose.\")\n\n    # Create a dict of arguments to pass to the 'main' function\n    args = parser.parse_args()\n    kwargs = vars(args)\n    verbose = kwargs.pop(\"verbose\")\n    if kwargs[\"fs_sh\"] is None:\n        kwargs[\"fs_sh\"] = DEFAULT_FREESURFER_PATH\n    if kwargs[\"fsl_sh\"] is None:\n        kwargs[\"fsl_sh\"] = DEFAULT_FSL_PATH\n\n    return kwargs, verbose"
      ], 
      "outputs": [], 
      "metadata": {
        "collapsed": false
      }
    }, 
    {
      "source": [
        "Parse the command line.\n\n"
      ], 
      "cell_type": "markdown", 
      "metadata": {}
    }, 
    {
      "execution_count": null, 
      "cell_type": "code", 
      "source": [
        "inputs, verbose = get_cmd_line_args()\ntool = \"pyconnectome_reduced_probtrackx2\"\ntimestamp = datetime.now().isoformat()\ntool_version = version\nfsl_version = FSLWrapper([], shfile=inputs[\"fsl_sh\"]).version\nfreesurfer_version = FSWrapper([], inputs[\"fs_sh\"]).version\nparams = locals()\nruntime = dict([(name, params[name])\n               for name in (\"tool\", \"tool_version\", \"fsl_version\",\n                            \"timestamp\", \"freesurfer_version\")])\noutputs = None\nif verbose > 0:\n    pprint(runtime)\n    pprint(inputs)"
      ], 
      "outputs": [], 
      "metadata": {
        "collapsed": false
      }
    }, 
    {
      "source": [
        "Start the connectome computation.\n\n"
      ], 
      "cell_type": "markdown", 
      "metadata": {}
    }, 
    {
      "execution_count": null, 
      "cell_type": "code", 
      "source": [
        "connectome_file, labels_file, connectome_snap_file = probtrackx2_connectome(\n    **inputs)"
      ], 
      "outputs": [], 
      "metadata": {
        "collapsed": false
      }
    }, 
    {
      "source": [
        "Update the outputs and save them and the inputs in a 'logs' directory.\n\n"
      ], 
      "cell_type": "markdown", 
      "metadata": {}
    }, 
    {
      "execution_count": null, 
      "cell_type": "code", 
      "source": [
        "logdir = os.path.join(inputs[\"outdir\"], \"logs\")\nif not os.path.isdir(logdir):\n    os.mkdir(logdir)\nparams = locals()\noutputs = dict([(name, params[name])\n               for name in (\"connectome_file\", \"labels_file\",\n                            \"connectome_snap_file\")])\nfor name, final_struct in [(\"inputs\", inputs), (\"outputs\", outputs),\n                           (\"runtime\", runtime)]:\n    log_file = os.path.join(logdir, \"{0}.json\".format(name))\n    with open(log_file, \"wt\") as open_file:\n        json.dump(final_struct, open_file, sort_keys=True, check_circular=True,\n                  indent=4)\nif verbose > 1:\n    pprint(\"[info] Outputs:\")\n    pprint(outputs)"
      ], 
      "outputs": [], 
      "metadata": {
        "collapsed": false
      }
    }
  ], 
  "metadata": {
    "kernelspec": {
      "display_name": "Python 2", 
      "name": "python2", 
      "language": "python"
    }, 
    "language_info": {
      "mimetype": "text/x-python", 
      "nbconvert_exporter": "python", 
      "name": "python", 
      "file_extension": ".py", 
      "version": "2.7.12", 
      "pygments_lexer": "ipython2", 
      "codemirror_mode": {
        "version": 2, 
        "name": "ipython"
      }
    }
  }
}