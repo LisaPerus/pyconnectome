{
  "nbformat_minor": 0, 
  "nbformat": 4, 
  "cells": [
    {
      "execution_count": null, 
      "cell_type": "code", 
      "source": [
        "%matplotlib inline"
      ], 
      "outputs": [], 
      "metadata": {
        "collapsed": false
      }
    }, 
    {
      "source": [
        "\nPyconnectome Life\n=================\n\nExample automatically generated from package script.\n\n"
      ], 
      "cell_type": "markdown", 
      "metadata": {}
    }, 
    {
      "execution_count": null, 
      "cell_type": "code", 
      "source": [
        "# System import\nimport os\nimport argparse\nimport json\nfrom pprint import pprint\nfrom datetime import datetime\nimport textwrap\nfrom argparse import RawTextHelpFormatter\n\n# Bredala module\ntry:\n    import bredala\n    bredala.USE_PROFILER = False\n    bredala.register(\"pyconnectome.tractography.filtering\",\n                     names=[\"life\"])\nexcept:\n    pass\n\n# Package import\nfrom pyconnectome import __version__ as version\nfrom pyconnectome.tractography.filtering import life\n\n# Third party import\nimport dipy\n\n\n# Parameters to keep trace\n__hopla__ = [\"runtime\", \"inputs\", \"outputs\"]\n\n\nDOC = \"\"\"\nLinear fascicle evaluation (LiFE)\n---------------------------------\n\nEvaluating the results of tractography algorithms is one of the biggest\nchallenges for diffusion MRI. One proposal for evaluation of tractography\nresults is to use a forward model that predicts the signal from each of a set\nof streamlines, and then fit a linear model to these simultaneous predictions.\n\nRequirements:\n    - a tractogram in TRK or TCK format.\n    - the diffusion data\n\nCommand example on the HCP data:\n\npython $HOME/git/pyconnectome/pyconnectome/scripts/pyconnectome_life \\\n    -o /volatile/nsap/hcp/life \\\n    -t /neurospin/hcp/ANALYSIS/3T_mrtrix/889579/10M.tck  \\\n    -i /neurospin/hcp/ANALYSIS/3T_freesurfer/889579/T1w/Diffusion/data.nii.gz \\\n    -b /neurospin/hcp/ANALYSIS/3T_freesurfer/889579/T1w/Diffusion/bvals \\\n    -r /neurospin/hcp/ANALYSIS/3T_freesurfer/889579/T1w/Diffusion/bvecs \\\n    -v 2\n\nCommand example on the Bpolf data:\n\npython $HOME/git/pyconnectome/pyconnectome/scripts/pyconnectome_life \\\n    -o /volatile/nsap/hcp/life \\\n    -t /neurospin/nsap/processed/bpolf/data/connectomist/aa170085-5574_001/tract/bundles/interhemispheric/CorpusCallosum_Body.trk  \\\n    -i /neurospin/nsap/processed/bpolf/data/connectomist/aa170085-5574_001/preproc/dwi.nii.gz \\\n    -b /neurospin/nsap/processed/bpolf/data/connectomist/aa170085-5574_001/preproc/dwi.bval \\\n    -r /neurospin/nsap/processed/bpolf/data/connectomist/aa170085-5574_001/preproc/dwi.bvec \\\n    -v 2\n\"\"\"\n\n\ndef is_file(filepath):\n    \"\"\" Check file's existence - argparse 'type' argument.\n    \"\"\"\n    if not os.path.isfile(filepath):\n        raise argparse.ArgumentError(\"File does not exist: %s\" % filepath)\n    return filepath\n\ndef is_directory(dirarg):\n    \"\"\" Type for argparse - checks that directory exists.\n    \"\"\"\n    if not os.path.isdir(dirarg):\n        raise argparse.ArgumentError(\n            \"The directory '{0}' does not exist!\".format(dirarg))\n    return dirarg\n\n\ndef get_cmd_line_args():\n    \"\"\"\n    Create a command line argument parser and return a dict mapping\n    <argument name> -> <argument value>.\n    \"\"\"\n    parser = argparse.ArgumentParser(\n        prog=\"python pyconnectome_life\",\n        description=textwrap.dedent(DOC),\n        formatter_class=RawTextHelpFormatter)\n\n    # Required arguments\n    required = parser.add_argument_group(\"required arguments\")\n    required.add_argument(\n        \"-o\", \"--outdir\",\n        type=is_directory, required=True, metavar=\"<path>\",\n        help=\"Directory where to output.\")\n    required.add_argument(\n        \"-t\", \"--tractogram\",\n        type=is_file, required=True, metavar=\"<path>\",\n        help=\"Path to the tractogram in TRK or TCK format.\")\n    required.add_argument(\n        \"-i\", \"--dwi\",\n        type=is_file, required=True, metavar=\"<path>\",\n        help=\"Path to the diffusion data.\")\n    required.add_argument(\n        \"-b\", \"--bvals\",\n        type=is_file, required=True, metavar=\"<path>\",\n        help=\"Path to the bvalue list.\")\n    required.add_argument(\n        \"-r\", \"--bvecs\",\n        type=is_file, required=True, metavar=\"<path>\",\n        help=\"Path to the list of diffusion-sensitized directions.\")\n\n    # Optional arguments\n    parser.add_argument(\n        \"-v\", \"--verbose\",\n        type=int, choices=[0, 1, 2], default=2,\n        help=\"Increase the verbosity level: 0 silent, [1, 2] verbose.\")\n\n    # Create a dict of arguments to pass to the 'main' function\n    args = parser.parse_args()\n    kwargs = vars(args)\n    verbose = kwargs.pop(\"verbose\")\n\n    return kwargs, verbose"
      ], 
      "outputs": [], 
      "metadata": {
        "collapsed": false
      }
    }, 
    {
      "source": [
        "Parse the command line.\n\n"
      ], 
      "cell_type": "markdown", 
      "metadata": {}
    }, 
    {
      "execution_count": null, 
      "cell_type": "code", 
      "source": [
        "inputs, verbose = get_cmd_line_args()\ntool = \"pyconnectome_life\"\ntimestamp = datetime.now().isoformat()\ntool_version = version\ndipy_version = dipy.__version__\nparams = locals()\nruntime = dict([(name, params[name])\n               for name in (\"tool\", \"tool_version\", \"dipy_version\",\n                            \"timestamp\")])\noutputs = None\nif verbose > 0:\n    pprint(\"[info] Starting LiFE tractogram evaluation...\")\n    pprint(\"[info] Runtime:\")\n    pprint(runtime)\n    pprint(\"[info] Inputs:\")\n    pprint(inputs)"
      ], 
      "outputs": [], 
      "metadata": {
        "collapsed": false
      }
    }, 
    {
      "source": [
        "Start the LiFE evaluation.\n\n"
      ], 
      "cell_type": "markdown", 
      "metadata": {}
    }, 
    {
      "execution_count": null, 
      "cell_type": "code", 
      "source": [
        "(life_weights_file, life_weights_snap, model_error_file, mean_error_file,\n improvment_error_file, tracks_snap) = life(\n    dwifile=inputs[\"dwi\"],\n    bvecsfile=inputs[\"bvecs\"],\n    bvalsfile=inputs[\"bvals\"],\n    tractogramfile=inputs[\"tractogram\"],\n    outdir=inputs[\"outdir\"],\n    display_tracks=False,\n    verbose=verbose)"
      ], 
      "outputs": [], 
      "metadata": {
        "collapsed": false
      }
    }, 
    {
      "source": [
        "Update the outputs and save them and the inputs in a 'logs' directory.\n\n"
      ], 
      "cell_type": "markdown", 
      "metadata": {}
    }, 
    {
      "execution_count": null, 
      "cell_type": "code", 
      "source": [
        "logdir = os.path.join(inputs[\"outdir\"], \"logs\")\nif not os.path.isdir(logdir):\n    os.mkdir(logdir)\nparams = locals()\noutputs = dict([(name, params[name])\n               for name in (\"life_weights_file\", \"life_weights_snap\",\n                            \"model_error_file\", \"mean_error_file\",\n                            \"improvment_error_file\", \"tracks_snap\")])\nfor name, final_struct in [(\"inputs\", inputs), (\"outputs\", outputs),\n                           (\"runtime\", runtime)]:\n    log_file = os.path.join(logdir, \"{0}.json\".format(name))\n    with open(log_file, \"wt\") as open_file:\n        json.dump(final_struct, open_file, sort_keys=True, check_circular=True,\n                  indent=4)\nif verbose > 1:\n    pprint(\"[info] Outputs:\")\n    pprint(outputs)"
      ], 
      "outputs": [], 
      "metadata": {
        "collapsed": false
      }
    }
  ], 
  "metadata": {
    "kernelspec": {
      "display_name": "Python 2", 
      "name": "python2", 
      "language": "python"
    }, 
    "language_info": {
      "mimetype": "text/x-python", 
      "nbconvert_exporter": "python", 
      "name": "python", 
      "file_extension": ".py", 
      "version": "2.7.12", 
      "pygments_lexer": "ipython2", 
      "codemirror_mode": {
        "version": 2, 
        "name": "ipython"
      }
    }
  }
}