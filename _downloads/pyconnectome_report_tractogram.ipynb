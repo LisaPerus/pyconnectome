{
  "nbformat_minor": 0, 
  "nbformat": 4, 
  "cells": [
    {
      "execution_count": null, 
      "cell_type": "code", 
      "source": [
        "%matplotlib inline"
      ], 
      "outputs": [], 
      "metadata": {
        "collapsed": false
      }
    }, 
    {
      "source": [
        "\nPyconnectome Report Tractogram\n==============================\n\nExample automatically generated from package script.\n\n"
      ], 
      "cell_type": "markdown", 
      "metadata": {}
    }, 
    {
      "execution_count": null, 
      "cell_type": "code", 
      "source": [
        "# System import\nimport os\nimport argparse\nimport json\nfrom pprint import pprint\nfrom datetime import datetime\nimport textwrap\nimport shutil\nfrom argparse import RawTextHelpFormatter\n\n# Bredala module\ntry:\n    import bredala\n    bredala.USE_PROFILER = False\n    bredala.register(\"pyconnectome.plotting.tractography\",\n                     names=[\"fiber_density_map\", \"fiber_length_histogram\",\n                            \"nilearn_snapshot\"])\n    bredala.register(\"pyconnectome.utils.filetools\",\n                     names=[\"merge_fibers\"])\n    bredala.register(\"pyconnectomist.utils.pdftools\",\n                     names=[\"generate_pdf\"])\n    bredala.register(\"pydcmio.plotting.slicer\",\n                     names=[\"mosaic\"])\nexcept:\n    pass\n\n# Package import\nimport pyconnectome\nfrom pyconnectome import __version__ as version\nfrom pyconnectome.plotting.tractography import fiber_density_map\nfrom pyconnectome.plotting.tractography import fiber_length_histogram\nfrom pyconnectome.plotting.tractography import nilearn_snapshot\nfrom pyconnectome.utils.filetools import merge_fibers\n\n# Third party import\nimport dipy\nimport pydcmio\nfrom pydcmio.plotting.slicer import mosaic\nfrom pyconnectomist.utils.pdftools import generate_pdf\n\n\n# Parameters to keep trace\n__hopla__ = [\"runtime\", \"inputs\", \"outputs\"]\n\n\nDOC = \"\"\"\nTractogram report\n-----------------\n\nGenerate a report to simplify the manual QC of the data.\n\nRequirements:\n    - a tractogram in TRK or TCK format.\n    - a tractography mask (optional)\n\nCommand example on the Bpolf data:\n\npython $HOME/git/pyconnectome/pyconnectome/scripts/pyconnectome_report_tractogram \\\n    -o /volatile/nsap/hcp/report \\\n    -t /neurospin/nsap/processed/bpolf/data/connectomist/fz160349-5400_001/tract/tractogram/tractography-streamline-regularized-deterministic_1_8.trk /neurospin/nsap/processed/bpolf/data/connectomist/fz160349-5400_001/tract/tractogram/tractography-streamline-regularized-deterministic_2_8.trk /neurospin/nsap/processed/bpolf/data/connectomist/fz160349-5400_001/tract/tractogram/tractography-streamline-regularized-deterministic_3_8.trk /neurospin/nsap/processed/bpolf/data/connectomist/fz160349-5400_001/tract/tractogram/tractography-streamline-regularized-deterministic_4_8.trk /neurospin/nsap/processed/bpolf/data/connectomist/fz160349-5400_001/tract/tractogram/tractography-streamline-regularized-deterministic_5_8.trk /neurospin/nsap/processed/bpolf/data/connectomist/fz160349-5400_001/tract/tractogram/tractography-streamline-regularized-deterministic_6_8.trk /neurospin/nsap/processed/bpolf/data/connectomist/fz160349-5400_001/tract/tractogram/tractography-streamline-regularized-deterministic_7_8.trk /neurospin/nsap/processed/bpolf/data/connectomist/fz160349-5400_001/tract/tractogram/tractography-streamline-regularized-deterministic_8_8.trk \\\n    -i /neurospin/nsap/processed/bpolf/data/connectomist/fz160349-5400_001/dtifit/dti_lambda_transverse.nii.gz \\\n    -M /neurospin/nsap/processed/bpolf/data/connectomist/fz160349-5400_001/tract/mask.nii.gz \\\n    -A LAS \\\n    -v 2\n\"\"\"\n\n\ndef is_file(filepath):\n    \"\"\" Check file's existence - argparse 'type' argument.\n    \"\"\"\n    if not os.path.isfile(filepath):\n        raise argparse.ArgumentError(\"File does not exist: %s\" % filepath)\n    return filepath\n\ndef is_directory(dirarg):\n    \"\"\" Type for argparse - checks that directory exists.\n    \"\"\"\n    if not os.path.isdir(dirarg):\n        raise argparse.ArgumentError(\n            \"The directory '{0}' does not exist!\".format(dirarg))\n    return dirarg\n\n\ndef get_cmd_line_args():\n    \"\"\"\n    Create a command line argument parser and return a dict mapping\n    <argument name> -> <argument value>.\n    \"\"\"\n    parser = argparse.ArgumentParser(\n        prog=\"python pyconnectome_report_tractogram\",\n        description=textwrap.dedent(DOC),\n        formatter_class=RawTextHelpFormatter)\n\n    # Required arguments\n    required = parser.add_argument_group(\"required arguments\")\n    required.add_argument(\n        \"-o\", \"--outdir\",\n        type=is_directory, required=True, metavar=\"<path>\",\n        help=\"Directory where to output.\")\n    required.add_argument(\n        \"-t\", \"--tractograms\",\n        type=is_file, required=True, metavar=\"<path>\", nargs=\"+\",\n        help=\"Path to the tractogram in TRK or TCK format.\")\n    required.add_argument(\n        \"-i\", \"--input\",\n        type=is_file, required=True, metavar=\"<path>\",\n        help=\"Path to an input 3D image in the diffusion space (FA, MD, \"\n             \"nodiff, ...).\")\n\n    # Optional arguments\n    required.add_argument(\n        \"-M\", \"--mask\",\n        type=is_file, metavar=\"<path>\",\n        help=\"Path to the tractography mask.\")\n    required.add_argument(\n        \"-A\", \"--axes\",\n        metavar=\"<axes>\", default=\"RAS\",\n        help=\"Orientation of the original axes X, Y, and Z.\")\n    parser.add_argument(\n        \"-S\", \"--sid\",\n        default=\"NC\",\n        help=\"the subject identifer.\")\n    parser.add_argument(\n        \"-C\", \"--clientname\",\n        default=\"NC\",\n        help=\"the client name.\")\n    parser.add_argument(\n        \"-P\", \"--projectname\",\n        default=\"NC\",\n        help=\"the project name.\")\n    parser.add_argument(\n        \"-T\", \"--timepoint\",\n        default=\"NC\",\n        help=\"the time step assocaited to the diffusion dataset.\")\n    parser.add_argument(\n        \"-v\", \"--verbose\",\n        type=int, choices=[0, 1, 2], default=2,\n        help=\"Increase the verbosity level: 0 silent, [1, 2] verbose.\")\n\n    # Create a dict of arguments to pass to the 'main' function\n    args = parser.parse_args()\n    kwargs = vars(args)\n    verbose = kwargs.pop(\"verbose\")\n\n    return kwargs, verbose"
      ], 
      "outputs": [], 
      "metadata": {
        "collapsed": false
      }
    }, 
    {
      "source": [
        "Parse the command line.\n\n"
      ], 
      "cell_type": "markdown", 
      "metadata": {}
    }, 
    {
      "execution_count": null, 
      "cell_type": "code", 
      "source": [
        "inputs, verbose = get_cmd_line_args()\ntool = \"pyconnectome_report_tractogram\"\ntimestamp = datetime.now().isoformat()\ntool_version = version\ndipy_version = dipy.__version__\npydcmio_version = pydcmio.__version__\nparams = locals()\nruntime = dict([(name, params[name])\n               for name in (\"tool\", \"tool_version\", \"dipy_version\",\n                            \"timestamp\", \"pydcmio_version\")])\noutputs = None\nif verbose > 0:\n    pprint(\"[info] Starting tractogram reporting...\")\n    pprint(\"[info] Runtime:\")\n    pprint(runtime)\n    pprint(\"[info] Inputs:\")\n    pprint(inputs)"
      ], 
      "outputs": [], 
      "metadata": {
        "collapsed": false
      }
    }, 
    {
      "source": [
        "Merge all the input tractograms.\n\n"
      ], 
      "cell_type": "markdown", 
      "metadata": {}
    }, 
    {
      "execution_count": null, 
      "cell_type": "code", 
      "source": [
        "tractogram = merge_fibers(\n    inputs[\"tractograms\"],\n    tempdir=inputs[\"outdir\"])"
      ], 
      "outputs": [], 
      "metadata": {
        "collapsed": false
      }
    }, 
    {
      "source": [
        "Create a fiber density map.\n\n"
      ], 
      "cell_type": "markdown", 
      "metadata": {}
    }, 
    {
      "execution_count": null, 
      "cell_type": "code", 
      "source": [
        "density_map, density_snap = fiber_density_map(\n    tracks=tractogram,\n    template=inputs[\"input\"],\n    outdir=inputs[\"outdir\"],\n    basename=\"fiber_density\",\n    fiber_ends_only=False,\n    overlay=False,\n    ext=\".png\",\n    axes=inputs[\"axes\"])\ndensity_large_snap = nilearn_snapshot(\n    inputfile=density_map,\n    outdir=inputs[\"outdir\"],\n    basename=\"fiber_density_large\",\n    cmap=\"cyan_orange\",\n    black_bg=False)"
      ], 
      "outputs": [], 
      "metadata": {
        "collapsed": false
      }
    }, 
    {
      "source": [
        "Create the fiber endpoints map\n\n"
      ], 
      "cell_type": "markdown", 
      "metadata": {}
    }, 
    {
      "execution_count": null, 
      "cell_type": "code", 
      "source": [
        "ends_density_map, ends_density_snap = fiber_density_map(\n    tracks=tractogram,\n    template=inputs[\"input\"],\n    outdir=inputs[\"outdir\"],\n    basename=\"fiber_ends_density\",\n    fiber_ends_only=True,\n    overlay=True,\n    overlay_alpha=1,\n    ext=\".png\",\n    axes=inputs[\"axes\"])\nends_density_large_snap = nilearn_snapshot(\n    inputfile=ends_density_map,\n    outdir=inputs[\"outdir\"],\n    basename=\"fiber_ends_density_large\",\n    cmap=\"cyan_orange\",\n    black_bg=False)"
      ], 
      "outputs": [], 
      "metadata": {
        "collapsed": false
      }
    }, 
    {
      "source": [
        "Create the tractography mask map\n\n"
      ], 
      "cell_type": "markdown", 
      "metadata": {}
    }, 
    {
      "execution_count": null, 
      "cell_type": "code", 
      "source": [
        "if inputs[\"mask\"] is not None:\n    mask_snap = mosaic(\n        impath=inputs[\"mask\"], outdir=inputs[\"outdir\"],\n        title=\"Tractography mask\", basename=\"tractography_mask\", ext=\".png\")\nelse:\n    mask_snap = None"
      ], 
      "outputs": [], 
      "metadata": {
        "collapsed": false
      }
    }, 
    {
      "source": [
        "Generate the fiber lengths histogram\n\n"
      ], 
      "cell_type": "markdown", 
      "metadata": {}
    }, 
    {
      "execution_count": null, 
      "cell_type": "code", 
      "source": [
        "fiber_lengths_hist = fiber_length_histogram(\n    tracks=tractogram,\n    outdir=inputs[\"outdir\"],\n    basename=\"hist_fiber_lengths\",\n    ext=\".png\",\n    bins=20)"
      ], 
      "outputs": [], 
      "metadata": {
        "collapsed": false
      }
    }, 
    {
      "source": [
        "Remove the merge tractogram\n\n"
      ], 
      "cell_type": "markdown", 
      "metadata": {}
    }, 
    {
      "execution_count": null, 
      "cell_type": "code", 
      "source": [
        "shutil.rmtree(os.path.dirname(tractogram))"
      ], 
      "outputs": [], 
      "metadata": {
        "collapsed": false
      }
    }, 
    {
      "source": [
        "Generate QC reporting\n\n"
      ], 
      "cell_type": "markdown", 
      "metadata": {}
    }, 
    {
      "execution_count": null, 
      "cell_type": "code", 
      "source": [
        "reportfile = os.path.join(inputs[\"outdir\"], \"Tractogram_{0}_{1}_{2}.pdf\".format(\n    inputs[\"projectname\"], inputs[\"sid\"], inputs[\"timepoint\"]))\ntic = datetime.now()\ngenerate_pdf(\n    datapath=inputs[\"outdir\"],\n    struct_file=os.path.join(\n        os.path.abspath(os.path.dirname(pyconnectome.__file__)), \"plotting\",\n        \"resources\", \"tractogram.json\"),\n    author=\"NeuroSpin\",\n    client=inputs[\"clientname\"],\n    poweredby=\"PyConnectome-{0}\".format(tool_version),\n    project=inputs[\"projectname\"],\n    timepoint=inputs[\"timepoint\"],\n    subject=inputs[\"sid\"],\n    date=\"{0}-{1}-{2}\".format(tic.year, tic.month, tic.day),\n    title=\"Tractogram QC Reporting\",\n    filename=reportfile,\n    pagesize=None,\n    left_margin=10,\n    right_margin=10,\n    top_margin=20,\n    bottom_margin=20,\n    show_boundary=False,\n    verbose=0)\nif verbose > 1:\n    print(\"[info] Repor in '{0}'.\".format(reportfile))"
      ], 
      "outputs": [], 
      "metadata": {
        "collapsed": false
      }
    }, 
    {
      "source": [
        "Update the outputs and save them and the inputs in a 'logs' directory.\n\n"
      ], 
      "cell_type": "markdown", 
      "metadata": {}
    }, 
    {
      "execution_count": null, 
      "cell_type": "code", 
      "source": [
        "logdir = os.path.join(inputs[\"outdir\"], \"logs\")\nif not os.path.isdir(logdir):\n    os.mkdir(logdir)\nparams = locals()\noutputs = dict([(name, params[name])\n               for name in (\"density_map\", \"density_snap\", \"density_large_snap\",\n                            \"ends_density_map\", \"ends_density_snap\",\n                            \"ends_density_large_snap\", \"fiber_lengths_hist\",\n                            \"reportfile\")])\nfor name, final_struct in [(\"inputs\", inputs), (\"outputs\", outputs),\n                           (\"runtime\", runtime)]:\n    log_file = os.path.join(logdir, \"{0}.json\".format(name))\n    with open(log_file, \"wt\") as open_file:\n        json.dump(final_struct, open_file, sort_keys=True, check_circular=True,\n                  indent=4)\nif verbose > 1:\n    pprint(\"[info] Outputs:\")\n    pprint(outputs)"
      ], 
      "outputs": [], 
      "metadata": {
        "collapsed": false
      }
    }
  ], 
  "metadata": {
    "kernelspec": {
      "display_name": "Python 2", 
      "name": "python2", 
      "language": "python"
    }, 
    "language_info": {
      "mimetype": "text/x-python", 
      "nbconvert_exporter": "python", 
      "name": "python", 
      "file_extension": ".py", 
      "version": "2.7.12", 
      "pygments_lexer": "ipython2", 
      "codemirror_mode": {
        "version": 2, 
        "name": "ipython"
      }
    }
  }
}