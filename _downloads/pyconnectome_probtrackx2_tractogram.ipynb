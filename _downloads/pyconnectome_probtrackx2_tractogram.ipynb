{
  "nbformat_minor": 0, 
  "nbformat": 4, 
  "cells": [
    {
      "execution_count": null, 
      "cell_type": "code", 
      "source": [
        "%matplotlib inline"
      ], 
      "outputs": [], 
      "metadata": {
        "collapsed": false
      }
    }, 
    {
      "source": [
        "\nPyconnectome Probtrackx2 Tractogram\n===================================\n\nExample automatically generated from package script.\n\n"
      ], 
      "cell_type": "markdown", 
      "metadata": {}
    }, 
    {
      "execution_count": null, 
      "cell_type": "code", 
      "source": [
        "# System modules\nfrom __future__ import print_function\nimport os\nimport shutil\nimport glob\nimport json\nimport argparse\nimport nibabel\nfrom datetime import datetime\nfrom pprint import pprint\nimport numpy\nimport textwrap\nfrom argparse import RawTextHelpFormatter\n\n\n# Bredala module\ntry:\n    import bredala\n    bredala.USE_PROFILER = False\n    bredala.register(\"pyconnectome.tractography.probabilist\",\n                     names=[\"probtrackx2\"])\n    bredala.register(\"pyconnectome.utils.regtools\",\n                     names=[\"freesurfer_bbregister_t1todif\", \"flirt\"])\n    bredala.register(\"pyconnectome.utils.segtools\",\n                     names=[\"white_matter_interface\"])\nexcept:\n    pass\n\n# PyFreeSurfer import\nfrom pyfreesurfer import DEFAULT_FREESURFER_PATH\nfrom pyfreesurfer.wrapper import FSWrapper\n\n# Package import\nfrom pyconnectome import __version__ as version\nfrom pyconnectome import DEFAULT_FSL_PATH\nfrom pyconnectome.wrapper import FSLWrapper\nfrom pyconnectome.tractography.probabilist import probtrackx2\nfrom pyconnectome.utils.regtools import freesurfer_bbregister_t1todif\nfrom pyconnectome.utils.regtools import flirt\nfrom pyconnectome.utils.segtools import white_matter_interface\n\n\n# Parameters to keep trace\n__hopla__ = [\"runtime\", \"inputs\", \"outputs\"]\n\n\n# Command parameters\ndoc = \"\"\"\nPerform FSL probabilistic tractography in a single subject using a seeding\npoint in voxel coordinates.\n\nExample of command for HCP, single seed point:\n\npython $HOME/git/pyconnectome/pyconnectome/scripts/pyconnectome_probtrackx2_tractogram \\\n    -o /tmp/nsap/tractograms/fsl \\\n    -b /neurospin/hcp/PROCESSED/3T_bedpostx/102008/T1w/Diffusion.bedpostX \\\n    -s 71 120 59 \\\n    -i 1 \\\n    -A 1000 \\\n    -L 0.5 \\\n    -v 2\n\nExample of command for HCP, use a user specified mask to seed:\n\npython $HOME/git/pyconnectome/pyconnectome/scripts/pyconnectome_probtrackx2_tractogram \\\n    -o /tmp/nsap/tractograms/fsl \\\n    -b /neurospin/hcp/PROCESSED/3T_bedpostx/102008/T1w/Diffusion.bedpostX \\\n    -P /neurospin/hcp/ANALYSIS/3T_freesurfer/102008/T1w/102008/mri/aparc+aseg.mgz \\\n    -S 102008 \\\n    -D /neurospin/hcp/ANALYSIS/3T_freesurfer/102008/T1w \\\n    -B /neurospin/hcp/ANALYSIS/3T_mrtrix/102008/nodif_brain.nii.gz \\\n    -A 1000 \\\n    -K 1010 \\\n    -L 0.5 \\\n    -v 2\n\nExample of command for HCP, use a user specified mask to seed:\n\npython $HOME/git/pyconnectome/pyconnectome/scripts/pyconnectome_probtrackx2_tractogram \\\n    -o /tmp/nsap/tractograms/fsl/nomask \\\n    -b /neurospin/hcp/PROCESSED/3T_bedpostx/102008/T1w/Diffusion.bedpostX \\\n    -a /neurospin/hcp/ANALYSIS/3T_freesurfer/102008/T1w/T1w_acpc_dc_restore_brain.nii.gz \\\n    -S 102008 \\\n    -D /neurospin/hcp/ANALYSIS/3T_freesurfer/102008/T1w \\\n    -B /neurospin/hcp/ANALYSIS/3T_mrtrix/102008/nodif_brain.nii.gz \\\n    -A 1000 \\\n    -L 0.5 \\\n    -v 2\n\"\"\"\n\n\ndef is_file(filearg):\n    \"\"\" Type for argparse - checks that file exists but does not open.\n    \"\"\"\n    if not os.path.isfile(filearg):\n        raise argparse.ArgumentError(\n            \"The file '{0}' does not exist!\".format(filearg))\n    return filearg\n\n\ndef is_directory(dirarg):\n    \"\"\" Type for argparse - checks that directory exists.\n    \"\"\"\n    if not os.path.isdir(dirarg):\n        raise argparse.ArgumentError(\n            \"The directory '{0}' does not exist!\".format(dirarg))\n    return dirarg\n\n\ndef get_cmd_line_args():\n    \"\"\"\n    Create a command line argument parser and return a dict mapping\n    <argument name> -> <argument value>.\n    \"\"\"\n    parser = argparse.ArgumentParser(\n        prog=\"pyconnectome_probtrackx2_tractogram\",\n        formatter_class=argparse.RawDescriptionHelpFormatter,\n        description=textwrap.dedent(doc))\n\n    # Required arguments\n    required = parser.add_argument_group(\"required arguments\")\n    required.add_argument(\n        \"-o\", \"--outdir\",\n        type=is_directory, required=True, metavar=\"<path>\",\n        help=\"Directory where to output.\")\n    required.add_argument(\n        \"-b\", \"--bedpostxdir\",\n        type=is_directory, required=True, metavar=\"<path>\",\n        help=\"The FSL bedpostx directory.\")\n    required.add_argument(\n        \"-s\", \"--point\",\n        type=int, metavar=\"<seed>\", nargs=3,\n        help=\"A seeding point in index coordinates.\")\n    required.add_argument(\n        \"-i\", \"--index\",\n        type=int, metavar=\"<index>\",\n        help=\"An index that will be associated to the current seeding point.\")\n    required.add_argument(\n        \"-a\", \"--t1-brain\",\n        type=is_file, metavar=\"<path>\",\n        help=\"The anatomical image used to generate the seeding mask: use the \"\n             \"FreeSurfer file by default, or if different perform \"\n             \"probabilistic mask with MRtrix.\")\n\n    # Optional arguments\n    required.add_argument(\n        \"-P\", \"--t1-parc\",\n        type=is_file, metavar=\"<path>\",\n        help=\"Path to the parcellation that defines the nodes of the connec\"\n             \"tome, e.g. aparc+aseg.mgz from FreeSurfer. It has to be in the \"\n             \"FreeSurfer space (i.e. aligned with FreeSurfer 'brain.mgz').\")\n    required.add_argument(\n        \"-S\", \"--subject-id\",\n        metavar=\"<id>\",\n        help=\"Subject identifier.\")\n    parser.add_argument(\n        \"-D\", \"--subjects-dir\", metavar=\"<path>\",\n        help=\"FreeSurfer subjects directory. To set or bypass the \"\n             \"$SUBJECTS_DIR environment variable.\")\n    required.add_argument(\n        \"-B\", \"--nodif-brain\",\n        type=is_file, metavar=\"<path>\",\n        help=\"Diffusion brain-only volume to use to estimate \"\n             \"the registration between diffusion and T1.\")\n    required.add_argument(\n        \"-K\", \"--keep-labels\",\n        type=int, nargs=\"+\", metavar=\"<labels>\",\n        help=\"The labels to be extracted in the parcellation image, default \"\n             \"is all values greater than zero.\")\n    parser.add_argument(\n        \"-A\", \"--nsamples\",\n        type=int, metavar=\"<int>\", default=5000,\n        help=\"The number of samples in probtrackx.\")\n    parser.add_argument(\n        \"-T\", \"--nsteps\",\n        type=int, metavar=\"<int>\", default=2000,\n        help=\"The number of steps per sample in probtrackx.\")\n    parser.add_argument(\n        \"-L\", \"--steplength\",\n        type=float, metavar=\"<float>\", default=0.5,\n        help=\"The propagation step in probtrackx.\")\n    parser.add_argument(\n        \"-M\", \"--sampvox\",\n        type=float, metavar=\"<float>\", default=0.0,\n        help=\"Random sampling sphere in probtrackx (in mm).\")\n    parser.add_argument(\n        \"-H\", \"--fs-sh\",\n        type=is_file, metavar=\"<path>\",\n        help=\"Bash script initializing FreeSurfer's environment.\")\n    parser.add_argument(\n        \"-F\", \"--fsl-sh\",\n        type=is_file, metavar=\"<path>\",\n        help=\"Bash script initializing FSL's environment.\")\n    parser.add_argument(\n        \"-v\", \"--verbose\",\n        dest=\"verbose\", type=int, choices=[0, 1, 2], default=0,\n        help=\"Increase the verbosity level: 0 silent, [1, 2] verbose.\")\n    args = parser.parse_args()\n\n    # Create a dict of arguments to pass to the 'main' function\n    args = parser.parse_args()\n    kwargs = vars(args)\n    verbose = kwargs.pop(\"verbose\")\n    if kwargs[\"fs_sh\"] is None:\n        kwargs[\"fs_sh\"] = DEFAULT_FREESURFER_PATH\n    if kwargs[\"fsl_sh\"] is None:\n        kwargs[\"fsl_sh\"] = DEFAULT_FSL_PATH\n\n    return kwargs, verbose"
      ], 
      "outputs": [], 
      "metadata": {
        "collapsed": false
      }
    }, 
    {
      "source": [
        "Parse the command line.\n\n"
      ], 
      "cell_type": "markdown", 
      "metadata": {}
    }, 
    {
      "execution_count": null, 
      "cell_type": "code", 
      "source": [
        "inputs, verbose = get_cmd_line_args()\ntool = \"pyconnectome_probtrackx2\"\ntimestamp = datetime.now().isoformat()\ntool_version = version\nfsl_version = FSLWrapper([], shfile=inputs[\"fsl_sh\"]).version\nfreesurfer_version = FSWrapper([], inputs[\"fs_sh\"]).version\nparams = locals()\nruntime = dict([(name, params[name])\n               for name in (\"tool\", \"tool_version\", \"fsl_version\",\n                            \"timestamp\", \"freesurfer_version\")])\noutputs = None\nif verbose > 0:\n    print(\"[info] Starting FSL probtrackx2 tractogram...\")\n    print(\"[info] Runtime:\")\n    pprint(runtime)\n    print(\"[info] Inputs:\")\n    pprint(inputs)"
      ], 
      "outputs": [], 
      "metadata": {
        "collapsed": false
      }
    }, 
    {
      "source": [
        "Check the FSL bedpostx directory\n\n"
      ], 
      "cell_type": "markdown", 
      "metadata": {}
    }, 
    {
      "execution_count": null, 
      "cell_type": "code", 
      "source": [
        "merged_prefix = os.path.join(inputs[\"bedpostxdir\"], \"merged\")\nmerged_files = glob.glob(merged_prefix + \"*\")\nif len(merged_files) == 0:\n    raise ValueError(\"'{0}' is not a valid FSL bedpostx folder.\".format(\n        inputs[\"bedpostxdir\"]))\nnodifmask_file = os.path.join(inputs[\"bedpostxdir\"], \"nodif_brain_mask.nii.gz\")\nif not os.path.isfile(nodifmask_file):\n    raise ValueError(\"'{0}' is not a valid FSL bedpostx folder.\".format(\n        inputs[\"bedpostxdir\"]))"
      ], 
      "outputs": [], 
      "metadata": {
        "collapsed": false
      }
    }, 
    {
      "source": [
        "Generate a mask in diffusion space with a rigid deformation.\n\n"
      ], 
      "cell_type": "markdown", 
      "metadata": {}
    }, 
    {
      "execution_count": null, 
      "cell_type": "code", 
      "source": [
        "# Point case\nif inputs[\"point\"] is not None:\n\n    # Do not genrate all the the probabily density masks\n    opd = True\n\n# Generate/align the seeding mask\nelif inputs[\"t1_parc\"] is None:\n\n    # Do not genrate all the the probabily density masks\n    opd = False\n\n    # Check input\n    if inputs[\"t1_brain\"] is None:\n        raise ValueError(\n            \"Please specify a parcellation or an antomical image.\")\n\n    # Generate a temporary folder\n    tempdir = os.path.join(inputs[\"outdir\"], \"tmp\")\n    if not os.path.isdir(tempdir):\n        os.mkdir(tempdir)\n    else:\n        print(\"[info] '{0}' folder already created.\".format(tempdir))\n    #gmwmi_mask_file = \"/tmp/nsap/tractograms/fsl/nomask/gmwmi_mask.nii.gz\"\n    if 0:\n        gmwmi_mask_file = white_matter_interface(\n            t1_brain_file=inputs[\"t1_brain\"],\n            outdir=inputs[\"outdir\"],\n            tempdir=tempdir,\n            fsl_sh=inputs[\"fsl_sh\"])\n\n    # Align the mask with the T1 space.\n    anat2dif_file = os.path.join(inputs[\"outdir\"], \"anat2dif.txt\")\n    t1brain_to_dif_file = os.path.join(\n        inputs[\"outdir\"], \"t1_brain_to_dif.nii.gz\")\n    gmwmi_mask_to_dif_file = os.path.join(\n        inputs[\"outdir\"], \"gmwmi_mask_to_dif.nii.gz\")\n    if 0:\n        flirt(\n            in_file=inputs[\"t1_brain\"],\n            ref_file=inputs[\"nodif_brain\"],\n            omat=anat2dif_file,\n            out=t1brain_to_dif_file,\n            cost=\"normmi\",\n            interp=\"trilinear\",\n            dof=6,\n            shfile=inputs[\"fsl_sh\"])\n        flirt(\n            in_file=gmwmi_mask_file,\n            ref_file=inputs[\"nodif_brain\"],\n            out=gmwmi_mask_to_dif_file,\n            init=anat2dif_file,\n            applyxfm=True,\n            interp=\"spline\",\n            shfile=inputs[\"fsl_sh\"])\n\n    # Invert anat2dif transform\n    dif2anat_file = os.path.join(inputs[\"outdir\"], \"dif2anat.txt\")\n    m = numpy.loadtxt(anat2dif_file)\n    m_inv = numpy.linalg.inv(m)\n    numpy.savetxt(dif2anat_file, m_inv)\n    invxfm = dif2anat_file\n\nelif[\"t1_parc\"] is not None:\n\n    # Do not genrate all the the probabily density masks\n    opd = False\n\n    # Align label in T1 space to diffusion space.\n    t1_brain_to_dif, dif2anat_dat, _ = freesurfer_bbregister_t1todif(\n        outdir=inputs[\"outdir\"],\n        subject_id=inputs[\"subject_id\"],\n        nodif_brain=inputs[\"nodif_brain\"],\n        subjects_dir=inputs[\"subjects_dir\"],\n        fs_sh=inputs[\"fs_sh\"],\n        fsl_sh=inputs[\"fsl_sh\"])\n    parc_name = (\n        os.path.basename(inputs[\"t1_parc\"]).split(\".nii\")[0].split(\".mgz\")[0])\n    t1_parc_to_dif = os.path.join(\n        inputs[\"outdir\"], parc_name + \"_to_dif.nii.gz\")\n    cmd = [\"mri_vol2vol\",\n           \"--mov\",  inputs[\"nodif_brain\"],\n           \"--targ\", inputs[\"t1_parc\"],\n           \"--inv\",\n           \"--interp\", \"nearest\",\n           \"--o\",   t1_parc_to_dif,\n           \"--reg\", dif2anat_dat,\n           \"--no-save-reg\"]\n    FSWrapper(cmd, shfile=inputs[\"fs_sh\"])()\n\nelse:\n    raise ValueError(\"Specify a seeding strategy.\")"
      ], 
      "outputs": [], 
      "metadata": {
        "collapsed": false
      }
    }, 
    {
      "source": [
        "Select the seeding strategy:\n1- write single seeding point coordinates to file (-s -i options).\n2- write seeding mask point coordinates to file (-a -p options).\n3- write generated white interface point coordinates to file.\n\n"
      ], 
      "cell_type": "markdown", 
      "metadata": {}
    }, 
    {
      "execution_count": null, 
      "cell_type": "code", 
      "source": [
        "seed_files = []\nif inputs[\"point\"] is not None:\n    wdir = os.path.join(inputs[\"outdir\"], \"{0}\".format(inputs[\"index\"]))\n    if not os.path.isdir(wdir):\n        os.mkdir(wdir)\n    else:\n        print(\"[info] '{0}' folder already created.\".format(wdir))\n    seed_files.append(os.path.join(wdir, \"fdt_coordinates.txt\"))\n    numpy.savetxt(seed_files[-1], inputs[\"point\"])\n\nelse:\n\n    # Get coordinates\n    nb_seeds = 0\n    if inputs[\"t1_parc\"] is not None:\n        chunk_size = 20000\n        parc_im = nibabel.load(t1_parc_to_dif)\n        parc_data = parc_im.get_data()\n        affine = parc_im.get_affine()\n        if inputs[\"keep_labels\"] is None:\n            seeds = numpy.argwhere(parc_data > 0)\n        else:\n            seeds_list = [numpy.argwhere(parc_data == label)\n                          for label in inputs[\"keep_labels\"]]\n            seeds = numpy.concatenante(seed_list, axis=0)\n        nb_seeds = len(seeds)\n        seeds = numpy.array_split(seeds, numpy.mod(nb_seeds, chunk_size) + 1)\n        labels = [\"{0}_{1}\".format(idx + 1, chunk_size)\n                  for idx in range(nb_seeds)]\n    else:\n        gmwmi_mask_im = nibabel.load(gmwmi_mask_to_dif_file)\n        gmwmi_mask_data = gmwmi_mask_im.get_data()\n        affine = gmwmi_mask_im.get_affine()\n        lower_thr = numpy.linspace(0, 0.95, 20)\n        upper_thr = numpy.linspace(0.05, 1, 20)\n        seeds = []\n        labels = []\n        for lower, upper in zip(lower_thr, upper_thr):\n            part_seeds = numpy.argwhere(\n                (gmwmi_mask_data > lower) & (gmwmi_mask_data <= upper))\n            if len(part_seeds) != 0:\n                seeds.append(part_seeds)\n                nb_seeds += len(part_seeds)\n                labels.append(\"{0}_{1}\".format(lower, upper))\n\n        # Do not consider p<0.1\n        seeds = seeds[2:]\n        labels = labels[2:]\n\n    if verbose > 1:\n        print(\"[info] Number of seeds: {0}.\".format(nb_seeds))\n\n    # Write coordinates\n    dif_affine = nibabel.load(nodifmask_file).get_affine()\n    trf = numpy.dot(affine, numpy.linalg.inv(dif_affine))\n    for seeds_part, label in zip(seeds, labels):\n        wdir = os.path.join(inputs[\"outdir\"], label)\n        if not os.path.isdir(wdir):\n            os.mkdir(wdir)\n        seed_files.append(os.path.join(wdir, \"fdt_coordinates.txt\")) \n        with open(seed_files[-1], \"wt\") as open_file:\n            numpy.savetxt(open_file, seeds_part)"
      ], 
      "outputs": [], 
      "metadata": {
        "collapsed": false
      }
    }, 
    {
      "source": [
        "Start the tractogram computation.\n\n"
      ], 
      "cell_type": "markdown", 
      "metadata": {}
    }, 
    {
      "execution_count": null, 
      "cell_type": "code", 
      "source": [
        "for seed_file in seed_files:\n    proba_files, network_file = probtrackx2(\n        samples=merged_prefix,\n        mask=nodifmask_file,\n        seed=seed_file,\n        nsamples=inputs[\"nsamples\"],\n        nsteps=inputs[\"nsteps\"],\n        steplength=inputs[\"steplength\"],\n        sampvox=inputs[\"sampvox\"],\n        simple=True,\n        loopcheck=True,\n        dir=os.path.dirname(seed_file),\n        out=\"fdt_paths\",\n        seedref=nodifmask_file,\n        onewaycondition=True,\n        opd=opd,\n        forcedir=True,\n        savepaths=True,\n        shfile=inputs[\"fsl_sh\"])"
      ], 
      "outputs": [], 
      "metadata": {
        "collapsed": false
      }
    }, 
    {
      "source": [
        "Update the outputs and save them and the inputs in a 'logs' directory.\n\n"
      ], 
      "cell_type": "markdown", 
      "metadata": {}
    }, 
    {
      "execution_count": null, 
      "cell_type": "code", 
      "source": [
        "logdir = os.path.join(wdir, \"logs\")\nif not os.path.isdir(logdir):\n    os.mkdir(logdir)\nshutil.move(os.path.join(wdir, \"probtrackx.log\"),\n            os.path.join(logdir, \"probtrackx.log\"))\nparams = locals()\noutputs = dict([(name, params[name])\n               for name in (\"proba_files\", \"network_file\")])\nfor name, final_struct in [(\"inputs\", inputs), (\"outputs\", outputs),\n                           (\"runtime\", runtime)]:\n    log_file = os.path.join(logdir, \"{0}.json\".format(name))\n    with open(log_file, \"wt\") as open_file:\n        json.dump(final_struct, open_file, sort_keys=True, check_circular=True,\n                  indent=4)\nif verbose > 1:\n    print(\"[info] Outputs:\")\n    pprint(outputs)"
      ], 
      "outputs": [], 
      "metadata": {
        "collapsed": false
      }
    }
  ], 
  "metadata": {
    "kernelspec": {
      "display_name": "Python 2", 
      "name": "python2", 
      "language": "python"
    }, 
    "language_info": {
      "mimetype": "text/x-python", 
      "nbconvert_exporter": "python", 
      "name": "python", 
      "file_extension": ".py", 
      "version": "2.7.12", 
      "pygments_lexer": "ipython2", 
      "codemirror_mode": {
        "version": 2, 
        "name": "ipython"
      }
    }
  }
}