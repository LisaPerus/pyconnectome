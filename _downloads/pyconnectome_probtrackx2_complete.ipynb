{
  "nbformat_minor": 0, 
  "nbformat": 4, 
  "cells": [
    {
      "execution_count": null, 
      "cell_type": "code", 
      "source": [
        "%matplotlib inline"
      ], 
      "outputs": [], 
      "metadata": {
        "collapsed": false
      }
    }, 
    {
      "source": [
        "\nPyconnectome Probtrackx2 Complete\n=================================\n\nExample automatically generated from package script.\n\n"
      ], 
      "cell_type": "markdown", 
      "metadata": {}
    }, 
    {
      "execution_count": null, 
      "cell_type": "code", 
      "source": [
        "# System modules\nfrom __future__ import print_function\nimport os\nimport shutil\nimport glob\nimport json\nimport argparse\nfrom datetime import datetime\nfrom pprint import pprint\nimport textwrap\nimport numpy\nimport nibabel\n\n\n# Bredala module\ntry:\n    import bredala\n    bredala.USE_PROFILER = False\n    bredala.register(\"pyconnectome.tractography.probabilist\",\n                     names=[\"probtrackx2\"])\n    bredala.register(\"pyconnectome.utils.filetools\",\n                     names=[\"surf2surf\"])\n    bredala.register(\"pyfreesurfer.conversions.volconvs\",\n                     names=[\"mri_binarize\", \"mri_convert\"])\n    bredala.register(\"pyconnectome.connectomes.complete\",\n                     names=[\"probtrackx2_connectome_complete\"])\nexcept:\n    pass\n\n# Package import\nfrom pyconnectome import __version__ as version\nfrom pyconnectome import DEFAULT_FSL_PATH\nfrom pyconnectome.wrapper import FSLWrapper\nfrom pyconnectome.connectomes.complete import probtrackx2_connectome_complete\n\n# PyFreeSurfer import\nfrom pyfreesurfer import DEFAULT_FREESURFER_PATH\nfrom pyfreesurfer.wrapper import FSWrapper\n\n\n# Parameters to keep trace\n__hopla__ = [\"runtime\", \"inputs\", \"outputs\"]\n\n\n# Command parameters\ndoc = \"\"\"\nFSL Probtrackx2\n~~~~~~~~~~~~~~~\n\nPerform FSL connectome using surface vertices as nodes of the network.\n\nPerspectives\n~~~~~~~~~~~~\n\nDeal with different surfaces.\n\nCommand\n~~~~~~~\n\npython $HOME/git/pyfsl/pyconnectome/scripts/pyconnectome_probtrackx2_complete \\\n    -c /etc/fsl/5.0/fsl.sh \\\n    -s 102008 \\\n    -o /volatile/nsap/hcp \\\n    -b /neurospin/tmp/slefranc/HCP/102008/diffusion.bedpostX \\\n    -B /volatile/nsap/hcp/102008/nodif_brain.nii.gz \\\n    -M /volatile/nsap/hcp/102008/nodif_brain_mask.nii.gz \\\n    -S /neurospin/population/HCP/processed/freesurfer/102008/T1w \\\n    -a 1 \\\n    -i 11 \\\n    -L /volatile/nsap/hcp/102008/L.gii \\\n    -R /volatile/nsap/hcp/102008/R.gii \\\n    -v 2\n\"\"\"\n\n\ndef is_file(filearg):\n    \"\"\" Type for argparse - checks that file exists but does not open.\n    \"\"\"\n    if not os.path.isfile(filearg):\n        raise argparse.ArgumentError(\n            \"The file '{0}' does not exist!\".format(filearg))\n    return filearg\n\n\ndef is_directory(dirarg):\n    \"\"\" Type for argparse - checks that directory exists.\n    \"\"\"\n    if not os.path.isdir(dirarg):\n        raise argparse.ArgumentError(\n            \"The directory '{0}' does not exist!\".format(dirarg))\n    return dirarg\n\n\nparser = argparse.ArgumentParser(\n    formatter_class=argparse.RawDescriptionHelpFormatter,\n    description=textwrap.dedent(doc))\nrequired = parser.add_argument_group(\"required arguments\")\nparser.add_argument(\n    \"-c\", \"--fslconfig\", dest=\"fslconfig\", metavar=\"<path>\",\n    help=\"the FSL configuration file.\", type=is_file)\nparser.add_argument(\n    \"-k\", \"--fsconfig\", dest=\"fsconfig\", metavar=\"<path>\",\n    help=\"the FreeSurfer configuration file.\", type=is_file)\nrequired.add_argument(\n    \"-s\", \"--subjectid\", required=True, metavar=\"<id>\",\n    help=\"Subject identifier.\")\nrequired.add_argument(\n    \"-o\", \"--outdir\", required=True, metavar=\"<path>\",\n    help=\"directory where to output.\", type=is_directory)\nrequired.add_argument(\n    \"-L\", \"--lhsurf\", required=True, metavar=\"<path>\",\n    help=\"The left hemisphere surface.\", type=is_file)\nrequired.add_argument(\n    \"-R\", \"--rhsurf\", required=True, metavar=\"<path>\",\n    help=\"The right hemisphere surface.\", type=is_file)\nrequired.add_argument(\n    \"-b\", \"--beddir\", dest=\"bedpostxdir\", required=True, metavar=\"<path>\",\n    help=\"the FSL bedpostx directory.\", type=is_directory)\nrequired.add_argument(\n    \"-B\", \"--nodifbrain\", required=True, metavar=\"<path>\",\n    help=\"Preprocessed brain-only volume with bvalue=0.\", type=is_file)\nrequired.add_argument(\n    \"-M\", \"--nodifbrainmask\", required=True, metavar=\"<path>\",\n    help=\"Brain binary mask of the diffusion sequence.\", type=is_file,)\nrequired.add_argument(\n    \"-S\", \"--subjectsdir\", metavar=\"<path>\", required=True,\n    help=\"To FreeSurfer subjects home directory.\", type=is_directory)\nrequired.add_argument(\n    \"-i\", \"--index\", dest=\"index\", required=True, metavar=\"<id>\",\n    help=\"the index of the reference seed (in the first specified surface) to \"\n         \"compute the corresponding profile.\", type=int)\nparser.add_argument(\n    \"-a\", \"--nsamples\", dest=\"nsamples\", metavar=\"<int>\", default=5000,\n    help=\"the number of samples in probtrackx.\", type=int)\nparser.add_argument(\n    \"-t\", \"--nsteps\", dest=\"nsteps\", metavar=\"<int>\", default=2000,\n    help=\"the number of steps per sample in probtrackx.\", type=int)\nparser.add_argument(\n    \"-l\", \"--steplength\", dest=\"steplength\", metavar=\"<float>\", default=0.5,\n    help=\"the propagation step in probtrackx.\", type=float)\nparser.add_argument(\n    \"-m\", \"--sampvox\", dest=\"sampvox\", metavar=\"<float>\", default=2.0,\n    help=\"random sampling sphere in probtrackx (in mm).\", type=float)\nparser.add_argument(\n    \"-e\", \"--erase\", dest=\"erase\", action=\"store_true\",\n    help=\"if activated, clean the subject folder.\")\nparser.add_argument(\n    \"-v\", \"--verbose\", dest=\"verbose\", type=int, choices=[0, 1, 2], default=0,\n    help=\"increase the verbosity level: 0 silent, [1, 2] verbose.\")\nargs = parser.parse_args()\ninputs = vars(args)\nverbose = inputs.pop(\"verbose\")\nfsl_config =  inputs.pop(\"fslconfig\") or DEFAULT_FSL_PATH\nfreesurfer_config =  inputs.pop(\"fsconfig\") or DEFAULT_FREESURFER_PATH"
      ], 
      "outputs": [], 
      "metadata": {
        "collapsed": false
      }
    }, 
    {
      "source": [
        "First check if the subject FSL directory exists on the file system, and\nclean it if requested. Check also the bedpostx directory.\n\n"
      ], 
      "cell_type": "markdown", 
      "metadata": {}
    }, 
    {
      "execution_count": null, 
      "cell_type": "code", 
      "source": [
        "tool = \"pyconnectome_probtrackx2_complete\"\ntimestamp = datetime.now().isoformat()\ntool_version = version\nfsl_version = FSLWrapper([], shfile=fsl_config).version\nfreesurfer_version = FSWrapper([], freesurfer_config).version\nparams = locals()\nruntime = dict([(name, params[name])\n               for name in (\"fsl_config\", \"tool\", \"tool_version\",\n                            \"fsl_version\", \"timestamp\", \"freesurfer_config\",\n                            \"freesurfer_version\")])\noutputs = None\nif verbose > 0:\n    print(\"[info] Starting FSL probtrackx2 ...\")\n    print(\"[info] Runtime:\")\n    pprint(runtime)\n    print(\"[info] Inputs:\")\n    pprint(inputs)\nsubjectdir = os.path.join(inputs[\"outdir\"], inputs[\"subjectid\"])\nwdir = os.path.join(subjectdir, \"{0}\".format(inputs[\"index\"]))\nif inputs[\"erase\"] and os.path.isdir(subjectdir):\n    shutil.rmtree(subjectdir)\nif not os.path.isdir(subjectdir):\n    os.mkdir(subjectdir)\nmerged_prefix = os.path.join(inputs[\"bedpostxdir\"], \"merged\")\nmerged_files = glob.glob(merged_prefix + \"*\")\nif len(merged_files) == 0:\n    raise ValueError(\"'{0}' is not a valid FSL bedpostx folder.\".format(\n        inputs[\"bedpostxdir\"]))\nif not os.path.isdir(wdir):\n    os.mkdir(wdir)"
      ], 
      "outputs": [], 
      "metadata": {
        "collapsed": false
      }
    }, 
    {
      "source": [
        "Start the connectome computation.\n\n"
      ], 
      "cell_type": "markdown", 
      "metadata": {}
    }, 
    {
      "execution_count": null, 
      "cell_type": "code", 
      "source": [
        "coords, weights = probtrackx2_connectome_complete(\n    outdir=wdir,\n    subject_id=inputs[\"subjectid\"],\n    lh_surf=inputs[\"lhsurf\"],\n    rh_surf=inputs[\"rhsurf\"],\n    nodif_brain=inputs[\"nodifbrain\"],\n    nodif_brain_mask=inputs[\"nodifbrainmask\"],\n    bedpostx_dir=inputs[\"bedpostxdir\"],\n    nsamples=inputs[\"nsamples\"],\n    nsteps=inputs[\"nsteps\"],\n    steplength=inputs[\"steplength\"],\n    subjects_dir=inputs[\"subjectsdir\"],\n    loopcheck=True,\n    cthr=0.2,\n    fibthresh=0.01,\n    distthresh=0.0,\n    sampvox=inputs[\"sampvox\"],\n    fs_sh=freesurfer_config,\n    fsl_sh=fsl_config)"
      ], 
      "outputs": [], 
      "metadata": {
        "collapsed": false
      }
    }, 
    {
      "source": [
        "Update the outputs and save them and the inputs in a 'logs' directory.\n\n"
      ], 
      "cell_type": "markdown", 
      "metadata": {}
    }, 
    {
      "execution_count": null, 
      "cell_type": "code", 
      "source": [
        "logdir = os.path.join(wdir, \"logs\")\nif not os.path.isdir(logdir):\n    os.mkdir(logdir)\nshutil.move(os.path.join(wdir, \"probtrackx.log\"),\n            os.path.join(logdir, \"probtrackx.log\"))\nparams = locals()\noutputs = dict([(name, params[name])\n                for name in (\"coords\", \"weights\")])\nfor name, final_struct in [(\"inputs\", inputs), (\"outputs\", outputs),\n                           (\"runtime\", runtime)]:\n    log_file = os.path.join(logdir, \"{0}.json\".format(name))\n    with open(log_file, \"wt\") as open_file:\n        json.dump(final_struct, open_file, sort_keys=True, check_circular=True,\n                  indent=4)\nif verbose > 1:\n    print(\"[info] Outputs:\")\n    pprint(outputs)"
      ], 
      "outputs": [], 
      "metadata": {
        "collapsed": false
      }
    }
  ], 
  "metadata": {
    "kernelspec": {
      "display_name": "Python 2", 
      "name": "python2", 
      "language": "python"
    }, 
    "language_info": {
      "mimetype": "text/x-python", 
      "nbconvert_exporter": "python", 
      "name": "python", 
      "file_extension": ".py", 
      "version": "2.7.12", 
      "pygments_lexer": "ipython2", 
      "codemirror_mode": {
        "version": 2, 
        "name": "ipython"
      }
    }
  }
}